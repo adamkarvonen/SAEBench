{
 "cells": [
  {
   "cell_type": "markdown",
   "metadata": {},
   "source": [
    "The following cell will display the dataframe containing SAEBench releases and saes."
   ]
  },
  {
   "cell_type": "code",
   "execution_count": null,
   "metadata": {},
   "outputs": [],
   "source": [
    "import pandas as pd\n",
    "import os\n",
    "import re\n",
    "import json\n",
    "\n",
    "import utils.formatting_utils as formatting_utils\n",
    "\n",
    "overview_df = formatting_utils.make_available_sae_df(for_printing=True)\n",
    "\n",
    "# pandas display options\n",
    "max_hook_point_length = overview_df[\"unique_hook_points\"].astype(str).map(len).max()\n",
    "pd.set_option(\"display.max_columns\", None)\n",
    "pd.set_option(\"display.width\", None)\n",
    "pd.set_option(\"display.max_colwidth\", int(max_hook_point_length))\n",
    "\n",
    "# print selected columns\n",
    "show_cols = [\n",
    "    \"release\",\n",
    "    \"model\",\n",
    "    \"unique_hook_points\",\n",
    "    \"n_saes_per_hook\",\n",
    "    \"has_training_checkpoints\",\n",
    "    \"saes_map\",\n",
    "]\n",
    "overview_df[show_cols]"
   ]
  },
  {
   "cell_type": "markdown",
   "metadata": {},
   "source": [
    "Each row is a \"release\" which has multiple SAEs which may have different configs / match different hook points in a model. These are 8 SAE Bench releases: 4 for Pythia and 4 for Gemma-2-2B."
   ]
  },
  {
   "cell_type": "markdown",
   "metadata": {},
   "source": [
    "Each release will contain an saes_map, a dict of sae_id: sae_name. The `sae_ids` are SAE Lens specific, used to load the SAEs into SAELens.\n",
    "\n",
    "In this project, we use the `sae_names` as keys in our results dictionaries, rather than the sae_ids. This is because the names are unique, and there's no possibility of mixing data between different SAEs."
   ]
  },
  {
   "cell_type": "code",
   "execution_count": null,
   "metadata": {},
   "outputs": [],
   "source": [
    "sae_df = formatting_utils.make_available_sae_df(for_printing=False)\n",
    "\n",
    "sae_release = \"sae_bench_gemma-2-2b_sweep_topk_ctx128_ef8_0824\"\n",
    "\n",
    "sae_id_to_name_map = sae_df.saes_map[sae_release]\n",
    "sae_name_to_id_map = {v: k for k, v in sae_id_to_name_map.items()}\n",
    "\n",
    "print(f\"First sae id: {list(sae_id_to_name_map.keys())[0]}\")\n",
    "print(f\"First sae name: {list(sae_id_to_name_map.values())[0]}\")"
   ]
  },
  {
   "cell_type": "markdown",
   "metadata": {},
   "source": [
    "As an example, here's a dictionary of sae_release: all saes for a given layer for that Gemma release. This is the input format that we are using for `sparse_probing/`. Note that in this particular example we are not including checkpoints."
   ]
  },
  {
   "cell_type": "code",
   "execution_count": null,
   "metadata": {},
   "outputs": [],
   "source": [
    "sae_releases = [\n",
    "    \"gemma-scope-2b-pt-res\",\n",
    "    \"sae_bench_gemma-2-2b_sweep_topk_ctx128_ef8_0824\",\n",
    "    \"sae_bench_gemma-2-2b_sweep_standard_ctx128_ef8_0824\",\n",
    "]\n",
    "\n",
    "layer = 19\n",
    "\n",
    "selected_saes_dict = {}\n",
    "\n",
    "for release in sae_releases:\n",
    "    if \"gemma-scope\" in release:\n",
    "        selected_saes_dict[release] = formatting_utils.find_gemmascope_average_l0_sae_names(layer)\n",
    "    else:\n",
    "        selected_saes_dict[release] = formatting_utils.filter_sae_names(\n",
    "            sae_names=release, layers=[layer], include_checkpoints=False, trainer_ids=None\n",
    "        )\n",
    "\n",
    "for key in selected_saes_dict:\n",
    "    print(\"\\n\\n\", key, \"\\n\\n\",selected_saes_dict[key])"
   ]
  },
  {
   "cell_type": "markdown",
   "metadata": {},
   "source": [
    "This cells gets all Gemma checkpoints. Notice that it also includes the final SAE, which is not included in the checkpoints folder."
   ]
  },
  {
   "cell_type": "code",
   "execution_count": null,
   "metadata": {},
   "outputs": [],
   "source": [
    "sae_releases = [\n",
    "    # \"gemma-scope-2b-pt-res\",\n",
    "    \"sae_bench_gemma-2-2b_sweep_topk_ctx128_ef8_0824\",\n",
    "    \"sae_bench_gemma-2-2b_sweep_standard_ctx128_ef8_0824\",\n",
    "]\n",
    "\n",
    "layer = 19\n",
    "\n",
    "selected_saes_dict = {}\n",
    "\n",
    "for release in sae_releases:\n",
    "    if \"gemma-scope\" in release:\n",
    "        selected_saes_dict[release] = formatting_utils.find_gemmascope_average_l0_sae_names(layer)\n",
    "    else:\n",
    "        selected_saes_dict[release] = formatting_utils.filter_sae_names(\n",
    "            sae_names=release, layers=[layer], include_checkpoints=True, trainer_ids=None\n",
    "        )\n",
    "\n",
    "for key in selected_saes_dict:\n",
    "    print(\"\\n\\n\", key, \"\\n\\n\",selected_saes_dict[key])"
   ]
  },
  {
   "cell_type": "markdown",
   "metadata": {},
   "source": [
    "This cell gets all standard and topk SAEs for Pythia layer 4. "
   ]
  },
  {
   "cell_type": "code",
   "execution_count": null,
   "metadata": {},
   "outputs": [],
   "source": [
    "pythia_sae_releases = [\n",
    "    \"sae_bench_pythia70m_sweep_standard_ctx128_0712\",\n",
    "    \"sae_bench_pythia70m_sweep_topk_ctx128_0730\",\n",
    "    # \"sae_bench_pythia70m_sweep_gated_ctx128_0730\",\n",
    "    # \"sae_bench_pythia70m_sweep_panneal_ctx128_0730\",\n",
    "]\n",
    "\n",
    "layer = 4\n",
    "\n",
    "selected_saes_dict = {}\n",
    "\n",
    "for release in pythia_sae_releases:\n",
    "    if \"gemma-scope\" in release:\n",
    "        selected_saes_dict[release] = formatting_utils.find_gemmascope_average_l0_sae_names(layer)\n",
    "    else:\n",
    "        selected_saes_dict[release] = formatting_utils.filter_sae_names(\n",
    "            sae_names=release, layers=[layer], include_checkpoints=False, trainer_ids=None\n",
    "        )\n",
    "\n",
    "for key in selected_saes_dict:\n",
    "    print(\"\\n\\n\", key, \"\\n\\n\",selected_saes_dict[key])"
   ]
  },
  {
   "cell_type": "markdown",
   "metadata": {},
   "source": [
    "When testing we may want to run only a single SAE. This cell only runs a single Pythia TopK SAE."
   ]
  },
  {
   "cell_type": "code",
   "execution_count": null,
   "metadata": {},
   "outputs": [],
   "source": [
    "pythia_sae_releases = [\n",
    "    # \"sae_bench_pythia70m_sweep_standard_ctx128_0712\",\n",
    "    \"sae_bench_pythia70m_sweep_topk_ctx128_0730\",\n",
    "    # \"sae_bench_pythia70m_sweep_gated_ctx128_0730\",\n",
    "    # \"sae_bench_pythia70m_sweep_panneal_ctx128_0730\",\n",
    "]\n",
    "\n",
    "layer = 4\n",
    "\n",
    "selected_saes_dict = {}\n",
    "\n",
    "for release in pythia_sae_releases:\n",
    "    if \"gemma-scope\" in release:\n",
    "        selected_saes_dict[release] = formatting_utils.find_gemmascope_average_l0_sae_names(layer)\n",
    "    else:\n",
    "        selected_saes_dict[release] = formatting_utils.filter_sae_names(\n",
    "            sae_names=release, layers=[layer], include_checkpoints=False, trainer_ids=[10]\n",
    "        )\n",
    "\n",
    "for key in selected_saes_dict:\n",
    "    print(key, selected_saes_dict[key])"
   ]
  },
  {
   "cell_type": "markdown",
   "metadata": {},
   "source": [
    "Here is an example of loading a Pythia SAE. In the current version of SAE Lens, SAE Bench SAEs are loaded as Standard SAEs, not TopK SAEs. Until a new version of SAE Lens is released with a fix, there is a workaround below, where we call `fix_topk_saes()`."
   ]
  },
  {
   "cell_type": "code",
   "execution_count": null,
   "metadata": {},
   "outputs": [],
   "source": [
    "from sae_lens import SAE\n",
    "from sae_lens.sae import TopK\n",
    "\n",
    "pythia_sae_release = \"sae_bench_pythia70m_sweep_topk_ctx128_0730\"\n",
    "\n",
    "sae_name = 'pythia70m_sweep_topk_ctx128_0730/resid_post_layer_4/trainer_10'\n",
    "\n",
    "sae_id_to_name_map = sae_df.saes_map[pythia_sae_release]\n",
    "sae_name_to_id_map = {v: k for k, v in sae_id_to_name_map.items()}\n",
    "\n",
    "sae_id = sae_name_to_id_map[sae_name]\n",
    "\n",
    "device = \"cpu\"\n",
    "sae, cfg_dict, sparsity = SAE.from_pretrained(\n",
    "    release=pythia_sae_release,\n",
    "    sae_id=sae_id,\n",
    "    device=device,\n",
    ")\n",
    "sae = sae.to(device=device)\n",
    "\n",
    "print(f\"Is sae topk? {isinstance(sae.activation_fn, TopK)}\")\n",
    "\n",
    "sae = formatting_utils.fix_topk_saes(sae, pythia_sae_release, sae_name)\n",
    "\n",
    "print(f\"Is sae topk? {isinstance(sae.activation_fn, TopK)}\")\n",
    "\n",
    "print(cfg_dict)"
   ]
  },
  {
   "cell_type": "markdown",
   "metadata": {},
   "source": [
    "This repo already contains info on all SAEs we're using at  `sae_bench_data/{release_name}_data.json`. This contains the config used in the `dictionary_learning` repo, which includes training hyperparameters, SAE type, etc. It also contains the `basic_eval_results`, which includes the `l0` and `frac_recovered`, which was obtained using the `dictionary_learning evaluate()` function. These are already computed, so we can use them when making graphs."
   ]
  },
  {
   "cell_type": "code",
   "execution_count": null,
   "metadata": {},
   "outputs": [],
   "source": [
    "release_name = \"sae_bench_gemma-2-2b_sweep_topk_ctx128_ef8_0824\"\n",
    "sae_data_filename = f\"sae_bench_data/{release_name}_data.json\"\n",
    "\n",
    "with open(sae_data_filename, \"r\") as f:\n",
    "    sae_data = json.load(f)"
   ]
  },
  {
   "cell_type": "markdown",
   "metadata": {},
   "source": [
    "As we can see, `sae_data` contains two keys: 'sae_config_dictionary_learning' and 'basic_eval_results'. Within each key, we have all SAE names for that release."
   ]
  },
  {
   "cell_type": "code",
   "execution_count": null,
   "metadata": {},
   "outputs": [],
   "source": [
    "example_sae_names = list(sae_data[\"sae_config_dictionary_learning\"].keys())[:5]\n",
    "example_sae_name = example_sae_names[0]\n",
    "example_sae_config = sae_data[\"sae_config_dictionary_learning\"][example_sae_name]\n",
    "example_basic_eval_result = sae_data[\"basic_eval_results\"][example_sae_name]\n",
    "\n",
    "print(sae_data.keys())\n",
    "print(\"\\nExample evaluated SAEs:\\n\", example_sae_names)\n",
    "print(\"\\nFirst SAE config:\\n\", example_sae_config)\n",
    "print(\"\\nFirst basic eval result:\\n\", example_basic_eval_result)"
   ]
  },
  {
   "cell_type": "markdown",
   "metadata": {},
   "source": [
    "The results file of the custom eval you're implementing will contain a `custom_eval_config` and `custom_eval_results`. \n",
    "\n",
    "`custom_eval_config` contains a dict of hyperparameters and config values to reproduce the results.\n",
    "\n",
    "`custom_eval_results` contains a dict, where every key is an SAE name, and every value is another dict containing various results from the eval. This dict can be immediately loaded in to `graph_sae_results.ipynb` to create various plots."
   ]
  },
  {
   "cell_type": "code",
   "execution_count": null,
   "metadata": {},
   "outputs": [],
   "source": [
    "folder_path = \"evals/sparse_probing/results\"\n",
    "filename = \"example_gemma-2-2b_layer_19_eval_results.json\"\n",
    "filepath = os.path.join(folder_path, filename)\n",
    "\n",
    "with open(filepath, \"r\") as f:\n",
    "    custom_eval_results = json.load(f)\n",
    "\n",
    "print(custom_eval_results.keys())\n",
    "print(f'\\nCustom eval config:\\n{custom_eval_results[\"custom_eval_config\"]}')\n",
    "print(f'\\nCustom eval results for {example_sae_name}:\\n{custom_eval_results[\"custom_eval_results\"][example_sae_name]}')"
   ]
  },
  {
   "cell_type": "code",
   "execution_count": null,
   "metadata": {},
   "outputs": [],
   "source": []
  }
 ],
 "metadata": {
  "kernelspec": {
   "display_name": "base",
   "language": "python",
   "name": "python3"
  },
  "language_info": {
   "codemirror_mode": {
    "name": "ipython",
    "version": 3
   },
   "file_extension": ".py",
   "mimetype": "text/x-python",
   "name": "python",
   "nbconvert_exporter": "python",
   "pygments_lexer": "ipython3",
   "version": "3.11.9"
  }
 },
 "nbformat": 4,
 "nbformat_minor": 2
}
