{
 "cells": [
  {
   "cell_type": "code",
   "execution_count": 1,
   "metadata": {},
   "outputs": [],
   "source": [
    "%load_ext autoreload\n",
    "%autoreload 2"
   ]
  },
  {
   "cell_type": "code",
   "execution_count": 11,
   "metadata": {},
   "outputs": [
    {
     "name": "stdout",
     "output_type": "stream",
     "text": [
      "Using device: cuda\n"
     ]
    }
   ],
   "source": [
    "import os\n",
    "from typing import Any, Optional\n",
    "\n",
    "import evals.core.main as core\n",
    "import evals.scr_and_tpp.main as scr_and_tpp\n",
    "import evals.sparse_probing.main as sparse_probing\n",
    "import sae_bench_utils.general_utils as general_utils\n",
    "import custom_saes.custom_sae_config as custom_sae_config\n",
    "import custom_saes.vanilla_sae as vanilla_sae\n",
    "from sae_bench_utils.sae_selection_utils import get_saes_from_regex\n",
    "import custom_saes.run_all_evals_custom_saes as run_all_evals_custom_saes\n",
    "\n",
    "RANDOM_SEED = 42\n",
    "\n",
    "output_folders = {\n",
    "    \"absorption\": \"eval_results/absorption\",\n",
    "    \"autointerp\": \"eval_results/autointerp\",\n",
    "    \"core\": \"eval_results/core\",\n",
    "    \"scr\": \"eval_results/scr\",\n",
    "    \"tpp\": \"eval_results/tpp\",\n",
    "    \"sparse_probing\": \"eval_results/sparse_probing\",\n",
    "    \"unlearning\": \"eval_results/unlearning\",\n",
    "}\n",
    "\n",
    "# Note: Unlearning is not recommended for models with < 2B parameters and we recommend an instruct tuned model\n",
    "# Unlearning will also require requesting permission for the WMDP dataset (see unlearning/README.md)\n",
    "# Absorption not recommended for models < 2B parameters\n",
    "# asyncio doesn't like notebooks, so autointerp must be ran using a python script\n",
    "\n",
    "# Select your eval types here. \n",
    "eval_types = [\n",
    "    \"absorption\",\n",
    "    # \"autointerp\",\n",
    "    \"core\",\n",
    "    \"scr\",\n",
    "    \"tpp\",\n",
    "    \"sparse_probing\",\n",
    "    # \"unlearning\",\n",
    "]\n",
    "\n",
    "if \"autointerp\" in eval_types:\n",
    "    raise ValueError(\"autointerp must be ran using a python script\")\n",
    "\n",
    "device = general_utils.setup_environment()\n",
    "\n",
    "model_name = \"gemma-2-2b\"\n",
    "llm_batch_size = 32\n",
    "dtype = \"bfloat16\"\n",
    "\n",
    "\n",
    "# If evaluating multiple SAEs on the same layer, set save_activations to True\n",
    "# This will require at least 100GB of disk space\n",
    "save_activations = False"
   ]
  },
  {
   "cell_type": "markdown",
   "metadata": {},
   "source": [
    "This cell loads your custom SAEs. If you just want to use existing SAE Lens SAEs, comment it out."
   ]
  },
  {
   "cell_type": "code",
   "execution_count": null,
   "metadata": {},
   "outputs": [],
   "source": [
    "\n",
    "\n",
    "repo_id = \"canrager/lm_sae\"\n",
    "baseline_filename = \"pythia70m_sweep_standard_ctx128_0712/resid_post_layer_4/trainer_8/ae.pt\"\n",
    "hook_layer = 4\n",
    "hook_name = f\"blocks.{hook_layer}.hook_resid_post\"\n",
    "\n",
    "sae = vanilla_sae.load_vanilla_sae(repo_id, baseline_filename, hook_layer)\n",
    "sae = sae.to(device, dtype=general_utils.str_to_dtype(dtype))\n",
    "\n",
    "print(f\"sae dtype: {sae.dtype}, device: {sae.device}\")\n",
    "\n",
    "d_sae, d_in = sae.W_dec.data.shape\n",
    "\n",
    "assert d_sae >= d_in\n",
    "\n",
    "print(f\"d_in: {d_in}, d_sae: {d_sae}\")"
   ]
  },
  {
   "cell_type": "markdown",
   "metadata": {},
   "source": [
    "In our sae object we need to have a CustomSAEConfig. This contains some information which is used by the evals (hook_name, hook_layer, model_name, d_sae, etc). In addition, it contains information that is used by our plotting functions, like number of training tokens and architecture. For example, we should have the sae.cfg.architecture defined if we want to plot multiple SAE architectures."
   ]
  },
  {
   "cell_type": "code",
   "execution_count": 45,
   "metadata": {},
   "outputs": [
    {
     "ename": "NameError",
     "evalue": "name 'd_in' is not defined",
     "output_type": "error",
     "traceback": [
      "\u001b[0;31m---------------------------------------------------------------------------\u001b[0m",
      "\u001b[0;31mNameError\u001b[0m                                 Traceback (most recent call last)",
      "Cell \u001b[0;32mIn[45], line 2\u001b[0m\n\u001b[1;32m      1\u001b[0m sae\u001b[38;5;241m.\u001b[39mcfg \u001b[38;5;241m=\u001b[39m custom_sae_config\u001b[38;5;241m.\u001b[39mCustomSAEConfig(\n\u001b[0;32m----> 2\u001b[0m     model_name, d_in\u001b[38;5;241m=\u001b[39m\u001b[43md_in\u001b[49m, d_sae\u001b[38;5;241m=\u001b[39md_sae, hook_name\u001b[38;5;241m=\u001b[39mhook_name, hook_layer\u001b[38;5;241m=\u001b[39mhook_layer\n\u001b[1;32m      3\u001b[0m )\n\u001b[1;32m      5\u001b[0m \u001b[38;5;66;03m# Core evals require us to specify the dtype. This must be a string that can be converted to a torch dtype using general_utils.str_to_dtype.\u001b[39;00m\n\u001b[1;32m      6\u001b[0m sae\u001b[38;5;241m.\u001b[39mcfg\u001b[38;5;241m.\u001b[39mdtype \u001b[38;5;241m=\u001b[39m dtype\n",
      "\u001b[0;31mNameError\u001b[0m: name 'd_in' is not defined"
     ]
    }
   ],
   "source": [
    "sae.cfg = custom_sae_config.CustomSAEConfig(\n",
    "    model_name, d_in=d_in, d_sae=d_sae, hook_name=hook_name, hook_layer=hook_layer\n",
    ")\n",
    "\n",
    "# Core evals require us to specify the dtype. This must be a string that can be converted to a torch dtype using general_utils.str_to_dtype.\n",
    "sae.cfg.dtype = dtype\n",
    "\n",
    "\n",
    "# The following contains our current defined SAE types and the shapes to plot for each. Add your custom SAE as new_sae_key\n",
    "new_sae_key = \"vanilla\"\n",
    "trainer_markers = {\n",
    "    \"standard\": \"o\",\n",
    "    \"jumprelu\": \"X\",\n",
    "    \"topk\": \"^\",\n",
    "    \"p_anneal\": \"*\",\n",
    "    \"gated\": \"d\",\n",
    "    new_sae_key: \"s\",  # New SAE\n",
    "}\n",
    "\n",
    "sae.cfg.architecture = new_sae_key\n",
    "sae.cfg.training_tokens = 200_000_000"
   ]
  },
  {
   "cell_type": "markdown",
   "metadata": {},
   "source": [
    "`selected_saes` is a list of tuples of (unique_sae_id, sae object) OR (sae lens release, sae lens id). If it is a list of custom sae objects, then memory size will increase with the length of the list. This is especially important if the SAEs are large. If memory is a concern, I recommend calling the `run_eval()` function multiple times with lists of length 1, each list containing a new sae object."
   ]
  },
  {
   "cell_type": "code",
   "execution_count": null,
   "metadata": {},
   "outputs": [],
   "source": [
    "# Note: the custom_sae_id should be unique, as it is used for the intermediate results and final results file names\n",
    "\n",
    "unique_custom_sae_id = baseline_filename.replace(\"/\", \"_\").replace(\".\", \"_\")\n",
    "print(f\"sae_id: {unique_custom_sae_id}\")\n",
    "\n",
    "# list of tuple of (sae_id, sae object)\n",
    "custom_saes = [(unique_custom_sae_id, sae)]"
   ]
  },
  {
   "cell_type": "markdown",
   "metadata": {},
   "source": [
    "Select your baseline SAEs here. Refer to `sae_regex_selection.ipynb` for more regex patterns. We are going to get a topk SAE from the same layer."
   ]
  },
  {
   "cell_type": "code",
   "execution_count": 36,
   "metadata": {},
   "outputs": [
    {
     "name": "stderr",
     "output_type": "stream",
     "text": [
      "100%|██████████| 57/57 [00:00<00:00, 90387.65it/s]"
     ]
    },
    {
     "name": "stdout",
     "output_type": "stream",
     "text": [
      "baseline_saes: []\n"
     ]
    },
    {
     "name": "stderr",
     "output_type": "stream",
     "text": [
      "\n"
     ]
    },
    {
     "ename": "IndexError",
     "evalue": "list index out of range",
     "output_type": "error",
     "traceback": [
      "\u001b[0;31m---------------------------------------------------------------------------\u001b[0m",
      "\u001b[0;31mIndexError\u001b[0m                                Traceback (most recent call last)",
      "Cell \u001b[0;32mIn[36], line 8\u001b[0m\n\u001b[1;32m      6\u001b[0m baseline_saes \u001b[38;5;241m=\u001b[39m get_saes_from_regex(sae_regex_pattern, sae_block_pattern)\n\u001b[1;32m      7\u001b[0m \u001b[38;5;28mprint\u001b[39m(\u001b[38;5;124mf\u001b[39m\u001b[38;5;124m\"\u001b[39m\u001b[38;5;124mbaseline_saes: \u001b[39m\u001b[38;5;132;01m{\u001b[39;00mbaseline_saes\u001b[38;5;132;01m}\u001b[39;00m\u001b[38;5;124m\"\u001b[39m)\n\u001b[0;32m----> 8\u001b[0m baseline_sae_id \u001b[38;5;241m=\u001b[39m \u001b[38;5;124mf\u001b[39m\u001b[38;5;124m\"\u001b[39m\u001b[38;5;132;01m{\u001b[39;00m\u001b[43mbaseline_saes\u001b[49m\u001b[43m[\u001b[49m\u001b[38;5;241;43m0\u001b[39;49m\u001b[43m]\u001b[49m[\u001b[38;5;241m0\u001b[39m]\u001b[38;5;132;01m}\u001b[39;00m\u001b[38;5;124m_\u001b[39m\u001b[38;5;132;01m{\u001b[39;00mbaseline_saes[\u001b[38;5;241m0\u001b[39m][\u001b[38;5;241m1\u001b[39m]\u001b[38;5;132;01m}\u001b[39;00m\u001b[38;5;124m\"\u001b[39m\u001b[38;5;241m.\u001b[39mreplace(\u001b[38;5;124m\"\u001b[39m\u001b[38;5;124m.\u001b[39m\u001b[38;5;124m\"\u001b[39m, \u001b[38;5;124m\"\u001b[39m\u001b[38;5;124m_\u001b[39m\u001b[38;5;124m\"\u001b[39m)\n\u001b[1;32m      9\u001b[0m \u001b[38;5;28mprint\u001b[39m(\u001b[38;5;124mf\u001b[39m\u001b[38;5;124m\"\u001b[39m\u001b[38;5;124mbaseline_sae_id: \u001b[39m\u001b[38;5;132;01m{\u001b[39;00mbaseline_sae_id\u001b[38;5;132;01m}\u001b[39;00m\u001b[38;5;124m\"\u001b[39m)\n\u001b[1;32m     11\u001b[0m baseline_saes\n",
      "\u001b[0;31mIndexError\u001b[0m: list index out of range"
     ]
    }
   ],
   "source": [
    "# sae_regex_pattern = r\"(sae_bench_pythia70m_sweep_topk_ctx128_0730).*\"\n",
    "# sae_block_pattern = r\".*blocks\\.([4])\\.hook_resid_post__trainer_(8)$\"\n",
    "# sae_regex_pattern = r\"gemma-2-2b_layer_5_additivity.*\"\n",
    "# sae_block_pattern = r\".*_trainer_0\"\n",
    "\n",
    "baseline_saes = get_saes_from_regex(sae_regex_pattern, sae_block_pattern)\n",
    "print(f\"baseline_saes: {baseline_saes}\")\n",
    "baseline_sae_id = f\"{baseline_saes[0][0]}_{baseline_saes[0][1]}\".replace(\".\", \"_\")\n",
    "print(f\"baseline_sae_id: {baseline_sae_id}\")\n",
    "\n",
    "baseline_saes"
   ]
  },
  {
   "cell_type": "markdown",
   "metadata": {},
   "source": [
    "Run time for the next 2 functions is approximately 2 minutes on an RTX 3090."
   ]
  },
  {
   "cell_type": "code",
   "execution_count": null,
   "metadata": {},
   "outputs": [],
   "source": [
    "# Note: We typically run with n_eval_sparsity_variance_batches=2000, but I have reduced it here for a faster run\n",
    "\n",
    "_ = core.multiple_evals(\n",
    "    selected_saes=selected_saes,\n",
    "    n_eval_reconstruction_batches=200,\n",
    "    n_eval_sparsity_variance_batches=200,\n",
    "    eval_batch_size_prompts=32,\n",
    "    compute_featurewise_density_statistics=False,\n",
    "    compute_featurewise_weight_based_metrics=False,\n",
    "    exclude_special_tokens_from_reconstruction=True,\n",
    "    dataset=\"Skylion007/openwebtext\",\n",
    "    context_size=128,\n",
    "    output_folder=\"eval_results/core\",\n",
    "    verbose=True,\n",
    "    dtype=dtype,\n",
    ")"
   ]
  },
  {
   "cell_type": "code",
   "execution_count": null,
   "metadata": {},
   "outputs": [],
   "source": [
    "# We do a subset of the sparse probing datasets here for shorter runtime\n",
    "dataset_names = [\"LabHC/bias_in_bios_class_set1\"]\n",
    "\n",
    "# TODO: Add a verbose flag\n",
    "\n",
    "_ = sparse_probing.run_eval(\n",
    "    sparse_probing.SparseProbingEvalConfig(\n",
    "        model_name=model_name,\n",
    "        random_seed=RANDOM_SEED,\n",
    "        llm_batch_size=llm_batch_size,\n",
    "        llm_dtype=dtype,\n",
    "        dataset_names=dataset_names,\n",
    "    ),\n",
    "    selected_saes,\n",
    "    device,\n",
    "    \"eval_results/sparse_probing\",\n",
    "    force_rerun=False,\n",
    "    clean_up_activations=True,\n",
    "    save_activations=save_activations,\n",
    ")\n"
   ]
  },
  {
   "cell_type": "markdown",
   "metadata": {},
   "source": [
    "The below cell will run all evals on the full datasets. By default, we don't do this as it's pretty time consuming (~1 hour)."
   ]
  },
  {
   "cell_type": "code",
   "execution_count": null,
   "metadata": {},
   "outputs": [],
   "source": [
    "# _ = run_all_evals_custom_saes.run_evals(\n",
    "#     model_name,\n",
    "#     selected_saes,\n",
    "#     llm_batch_size,\n",
    "#     dtype,\n",
    "#     device,\n",
    "#     eval_types,\n",
    "#     api_key,\n",
    "#     force_rerun=False,\n",
    "#     save_activations=save_activations,\n",
    "# )"
   ]
  },
  {
   "cell_type": "code",
   "execution_count": 3,
   "metadata": {},
   "outputs": [],
   "source": [
    "import matplotlib.pyplot as plt\n",
    "import json\n",
    "import torch\n",
    "import pickle\n",
    "from typing import Optional\n",
    "from matplotlib.colors import Normalize\n",
    "import numpy as np\n",
    "import os\n",
    "\n",
    "import sae_bench_utils.graphing_utils as graphing_utils\n",
    "\n",
    "from sae_bench_utils.sae_selection_utils import select_saes_multiple_patterns"
   ]
  },
  {
   "cell_type": "code",
   "execution_count": 4,
   "metadata": {},
   "outputs": [],
   "source": [
    "eval_path = \"./eval_results/absorption\"\n",
    "\n",
    "core_results_path = \"./eval_results/core\"\n",
    "image_path = \"./images\"\n",
    "\n",
    "if not os.path.exists(image_path):\n",
    "    os.makedirs(image_path)"
   ]
  },
  {
   "cell_type": "code",
   "execution_count": 23,
   "metadata": {},
   "outputs": [
    {
     "name": "stderr",
     "output_type": "stream",
     "text": [
      "/share/u/can/SAEBench/custom_saes/topk_sae.py:110: FutureWarning: You are using `torch.load` with `weights_only=False` (the current default value), which uses the default pickle module implicitly. It is possible to construct malicious pickle data which will execute arbitrary code during unpickling (See https://github.com/pytorch/pytorch/blob/main/SECURITY.md#untrusted-models for more details). In a future release, the default value for `weights_only` will be flipped to `True`. This limits the functions that could be executed during unpickling. Arbitrary objects will no longer be allowed to be loaded via this mode unless they are explicitly allowlisted by the user via `torch.serialization.add_safe_globals`. We recommend you start setting `weights_only=True` for any use case where you don't have full control of the loaded file. Please open an issue on GitHub for any issues related to this experimental feature.\n",
      "  pt_params = t.load(path_to_params)\n"
     ]
    },
    {
     "name": "stdout",
     "output_type": "stream",
     "text": [
      "Loaded config: {'trainer': {'trainer_class': 'TrainerTopKAdditivity', 'dict_class': 'AutoEncoderTopK', 'lr': 0.000282842712474619, 'steps': 48828, 'seed': 0, 'activation_dim': 2304, 'dict_size': 8192, 'k': 20, 'auxk_alpha': 0.03125, 'additivity_coeff': 0.0, 'intersection_coeff': 0.0, 'device': 'cuda:0', 'layer': 4, 'lm_name': 'google/gemma-2-2b', 'wandb_name': 'TopKTrainer_Additivity-google/gemma-2-2b-resid_post_layer_4-add_coeff-0.0-inters_coeff-0.0', 'submodule_name': 'resid_post_layer_4'}, 'buffer': {'d_submodule': 2304, 'io': 'out', 'n_ctxs': 8192, 'ctx_len': 128, 'refresh_batch_size': 32, 'out_batch_size': 2048, 'device': 'cuda:0'}}\n",
      "Original keys in state_dict: odict_keys(['b_dec', 'encoder.weight', 'encoder.bias', 'decoder.weight'])\n",
      "Renamed keys in state_dict: dict_keys(['b_dec', 'W_enc', 'b_enc', 'W_dec'])\n",
      "Loaded config: {'trainer': {'trainer_class': 'TrainerTopKAdditivity', 'dict_class': 'AutoEncoderTopK', 'lr': 0.000282842712474619, 'steps': 48828, 'seed': 0, 'activation_dim': 2304, 'dict_size': 8192, 'k': 20, 'auxk_alpha': 0.03125, 'additivity_coeff': 0.0, 'intersection_coeff': 1.0, 'device': 'cuda:0', 'layer': 4, 'lm_name': 'google/gemma-2-2b', 'wandb_name': 'TopKTrainer_Additivity-google/gemma-2-2b-resid_post_layer_4-add_coeff-0.0-inters_coeff-1.0', 'submodule_name': 'resid_post_layer_4'}, 'buffer': {'d_submodule': 2304, 'io': 'out', 'n_ctxs': 8192, 'ctx_len': 128, 'refresh_batch_size': 32, 'out_batch_size': 2048, 'device': 'cuda:0'}}\n",
      "Original keys in state_dict: odict_keys(['b_dec', 'encoder.weight', 'encoder.bias', 'decoder.weight'])\n",
      "Renamed keys in state_dict: dict_keys(['b_dec', 'W_enc', 'b_enc', 'W_dec'])\n",
      "Loaded config: {'trainer': {'trainer_class': 'TrainerTopKAdditivity', 'dict_class': 'AutoEncoderTopK', 'lr': 0.000282842712474619, 'steps': 48828, 'seed': 0, 'activation_dim': 2304, 'dict_size': 8192, 'k': 20, 'auxk_alpha': 0.03125, 'additivity_coeff': 1.0, 'intersection_coeff': 0.0, 'device': 'cuda:0', 'layer': 4, 'lm_name': 'google/gemma-2-2b', 'wandb_name': 'TopKTrainer_Additivity-google/gemma-2-2b-resid_post_layer_4-add_coeff-1.0-inters_coeff-0.0', 'submodule_name': 'resid_post_layer_4'}, 'buffer': {'d_submodule': 2304, 'io': 'out', 'n_ctxs': 8192, 'ctx_len': 128, 'refresh_batch_size': 32, 'out_batch_size': 2048, 'device': 'cuda:0'}}\n",
      "Original keys in state_dict: odict_keys(['b_dec', 'encoder.weight', 'encoder.bias', 'decoder.weight'])\n",
      "Renamed keys in state_dict: dict_keys(['b_dec', 'W_enc', 'b_enc', 'W_dec'])\n",
      "Loaded config: {'trainer': {'trainer_class': 'TrainerTopKAdditivity', 'dict_class': 'AutoEncoderTopK', 'lr': 0.000282842712474619, 'steps': 48828, 'seed': 0, 'activation_dim': 2304, 'dict_size': 8192, 'k': 20, 'auxk_alpha': 0.03125, 'additivity_coeff': 1.0, 'intersection_coeff': 1.0, 'device': 'cuda:0', 'layer': 4, 'lm_name': 'google/gemma-2-2b', 'wandb_name': 'TopKTrainer_Additivity-google/gemma-2-2b-resid_post_layer_4-add_coeff-1.0-inters_coeff-1.0', 'submodule_name': 'resid_post_layer_4'}, 'buffer': {'d_submodule': 2304, 'io': 'out', 'n_ctxs': 8192, 'ctx_len': 128, 'refresh_batch_size': 32, 'out_batch_size': 2048, 'device': 'cuda:0'}}\n",
      "Original keys in state_dict: odict_keys(['b_dec', 'encoder.weight', 'encoder.bias', 'decoder.weight'])\n",
      "Renamed keys in state_dict: dict_keys(['b_dec', 'W_enc', 'b_enc', 'W_dec'])\n"
     ]
    }
   ],
   "source": [
    "from custom_saes.topk_sae import load_topk_sae\n",
    "\n",
    "repo_id = \"webcrg/additivity\"\n",
    "hook_layer = 5\n",
    "\n",
    "selected_saes = []\n",
    "for trainer_id in range(4):\n",
    "    trainer_path = f\"gemma-2-2b_layer-4_width-2pow13_date-1204/trainer_{trainer_id}\"\n",
    "    filename = os.path.join(trainer_path, \"ae.pt\")\n",
    "    config_filename = os.path.join(trainer_path, \"config.json\")\n",
    "    sae = load_topk_sae(repo_id, filename, config_filename, hook_layer)\n",
    "    # sae = identity_sae.IdentitySAE(model_name, d_model, hook_layer, context_size=128)\n",
    "    selected_saes.append((f\"{model_name}_layer_{hook_layer}_additivity_trainer_{trainer_id}\", sae))"
   ]
  },
  {
   "cell_type": "code",
   "execution_count": 38,
   "metadata": {},
   "outputs": [],
   "source": [
    "custom_sae_ids = []\n",
    "\n",
    "for sae_id, sae in selected_saes:\n",
    "    custom_sae_ids.append((sae_id, \"custom_sae\"))\n",
    "\n",
    "# sae_lens_ids = []\n",
    "\n",
    "# for sae_id, sae_release in baseline_saes:\n",
    "#     sae_lens_ids.append((sae_id, sae_release))\n",
    "\n",
    "graphing_sae_ids = custom_sae_ids # + sae_lens_ids"
   ]
  },
  {
   "cell_type": "markdown",
   "metadata": {},
   "source": [
    "Here we can view the raw results, and we see that both SAEs significantly outperform the residual stream baseline."
   ]
  },
  {
   "cell_type": "code",
   "execution_count": 39,
   "metadata": {},
   "outputs": [
    {
     "data": {
      "text/plain": [
       "[('gemma-2-2b_layer_5_additivity_trainer_0', 'custom_sae'),\n",
       " ('gemma-2-2b_layer_5_additivity_trainer_1', 'custom_sae'),\n",
       " ('gemma-2-2b_layer_5_additivity_trainer_2', 'custom_sae'),\n",
       " ('gemma-2-2b_layer_5_additivity_trainer_3', 'custom_sae')]"
      ]
     },
     "execution_count": 39,
     "metadata": {},
     "output_type": "execute_result"
    }
   ],
   "source": [
    "graphing_sae_ids"
   ]
  },
  {
   "cell_type": "code",
   "execution_count": 40,
   "metadata": {},
   "outputs": [
    {
     "name": "stdout",
     "output_type": "stream",
     "text": [
      "dict_keys(['gemma-2-2b_layer_5_additivity_trainer_0_custom_sae', 'gemma-2-2b_layer_5_additivity_trainer_1_custom_sae', 'gemma-2-2b_layer_5_additivity_trainer_2_custom_sae', 'gemma-2-2b_layer_5_additivity_trainer_3_custom_sae'])\n"
     ]
    }
   ],
   "source": [
    "raw_results_dict = graphing_utils.get_results_dict(graphing_sae_ids, eval_path, core_results_path)\n",
    "\n",
    "print(raw_results_dict.keys())"
   ]
  },
  {
   "cell_type": "code",
   "execution_count": 42,
   "metadata": {},
   "outputs": [],
   "source": [
    "custom_sae_id = f\"{custom_sae_ids[0][0]}_{custom_sae_ids[0][1]}\".replace(\".\", \"_\")\n",
    "# baseline_sae_id = f\"{sae_lens_ids[0][0]}_{sae_lens_ids[0][1]}\"\n",
    "\n",
    "\n",
    "# baseline_filename = f\"{sae_lens_ids[0][0]}_{sae_lens_ids[0][1]}_eval_results.json\".replace(\"/\", \"_\")\n",
    "# baseline_filepath = os.path.join(eval_path, baseline_filename)\n",
    "\n",
    "# with open(baseline_filepath, \"r\") as f:\n",
    "#     baseline_sae_eval_results = json.load(f)\n",
    "\n",
    "custom_filename = f\"{custom_sae_ids[0][0]}_{custom_sae_ids[0][1]}_eval_results.json\".replace(\"/\", \"_\")\n",
    "custom_filepath = os.path.join(eval_path, custom_filename)\n",
    "\n",
    "with open(custom_filepath, \"r\") as f:\n",
    "    custom_sae_eval_results = json.load(f)\n",
    "\n",
    "# k = 1\n",
    "\n",
    "# print(baseline_sae_eval_results.keys())\n",
    "\n",
    "# print(f\"Baseline SAE top {k} accuracy was:\", baseline_sae_eval_results[\"eval_result_metrics\"]['sae'][f'sae_top_{k}_test_accuracy'])\n",
    "# print(f\"Custom SAE top {k} accuracy was:\", custom_sae_eval_results[\"eval_result_metrics\"]['sae'][f'sae_top_{k}_test_accuracy'])\n",
    "# print(f\"LLM top {k} accuracy was:\" , baseline_sae_eval_results[\"eval_result_metrics\"]['llm'][f'llm_top_{k}_test_accuracy'])"
   ]
  },
  {
   "cell_type": "markdown",
   "metadata": {},
   "source": [
    "We can also plot the metrics, plotting L0 vs Custom Metric or L0 vs Loss Recovered vs Custom metric. We can have different shapes for the SAE type or dictionary size."
   ]
  },
  {
   "cell_type": "code",
   "execution_count": 43,
   "metadata": {},
   "outputs": [],
   "source": [
    "k=1"
   ]
  },
  {
   "cell_type": "code",
   "execution_count": 46,
   "metadata": {},
   "outputs": [],
   "source": [
    "trainer_markers = {\n",
    "    \"standard\": \"o\",\n",
    "    \"jumprelu\": \"X\",\n",
    "    \"topk\": \"^\",\n",
    "    \"p_anneal\": \"*\",\n",
    "    \"gated\": \"d\",\n",
    "    # new_sae_key: \"s\",  # New SAE\n",
    "}"
   ]
  },
  {
   "cell_type": "code",
   "execution_count": 50,
   "metadata": {},
   "outputs": [
    {
     "data": {
      "text/plain": [
       "'./images/absorption'"
      ]
     },
     "execution_count": 50,
     "metadata": {},
     "output_type": "execute_result"
    }
   ],
   "source": [
    "image_base_name"
   ]
  },
  {
   "cell_type": "code",
   "execution_count": 53,
   "metadata": {},
   "outputs": [
    {
     "name": "stdout",
     "output_type": "stream",
     "text": [
      "{'gemma-2-2b_layer_5_additivity_trainer_0_custom_sae': {'mean_absorption_score': 0.1354606266610463, 'mean_num_split_features': 2.0, 'eval_config': {'model_name': 'gemma-2-2b', 'random_seed': 42, 'f1_jump_threshold': 0.03, 'max_k_value': 10, 'prompt_template': '{word} has the first letter:', 'prompt_token_pos': -6, 'llm_batch_size': 32, 'llm_dtype': 'bfloat16', 'k_sparse_probe_l1_decay': 0.01, 'k_sparse_probe_batch_size': 4096, 'k_sparse_probe_num_epochs': 50}, 'sae_class': '', 'd_sae': 8000, 'train_tokens': 1e-06, 'l0': 19.999998092651367, 'frac_recovered': 0.8585526315789473}, 'gemma-2-2b_layer_5_additivity_trainer_1_custom_sae': {'mean_absorption_score': 0.14887349997275068, 'mean_num_split_features': 2.0, 'eval_config': {'model_name': 'gemma-2-2b', 'random_seed': 42, 'f1_jump_threshold': 0.03, 'max_k_value': 10, 'prompt_template': '{word} has the first letter:', 'prompt_token_pos': -6, 'llm_batch_size': 32, 'llm_dtype': 'bfloat16', 'k_sparse_probe_l1_decay': 0.01, 'k_sparse_probe_batch_size': 4096, 'k_sparse_probe_num_epochs': 50}, 'sae_class': '', 'd_sae': 8000, 'train_tokens': 1e-06, 'l0': 19.999977111816406, 'frac_recovered': 0.8585526315789473}, 'gemma-2-2b_layer_5_additivity_trainer_2_custom_sae': {'mean_absorption_score': 0.28336021725316013, 'mean_num_split_features': 2.576923076923077, 'eval_config': {'model_name': 'gemma-2-2b', 'random_seed': 42, 'f1_jump_threshold': 0.03, 'max_k_value': 10, 'prompt_template': '{word} has the first letter:', 'prompt_token_pos': -6, 'llm_batch_size': 32, 'llm_dtype': 'bfloat16', 'k_sparse_probe_l1_decay': 0.01, 'k_sparse_probe_batch_size': 4096, 'k_sparse_probe_num_epochs': 50}, 'sae_class': '', 'd_sae': 8000, 'train_tokens': 1e-06, 'l0': 19.99997329711914, 'frac_recovered': 0.039473684210526314}, 'gemma-2-2b_layer_5_additivity_trainer_3_custom_sae': {'mean_absorption_score': 0.27855316222744153, 'mean_num_split_features': 2.769230769230769, 'eval_config': {'model_name': 'gemma-2-2b', 'random_seed': 42, 'f1_jump_threshold': 0.03, 'max_k_value': 10, 'prompt_template': '{word} has the first letter:', 'prompt_token_pos': -6, 'llm_batch_size': 32, 'llm_dtype': 'bfloat16', 'k_sparse_probe_l1_decay': 0.01, 'k_sparse_probe_batch_size': 4096, 'k_sparse_probe_num_epochs': 50}, 'sae_class': '', 'd_sae': 8000, 'train_tokens': 1e-06, 'l0': 19.999988555908203, 'frac_recovered': 0.09868421052631579}}\n"
     ]
    },
    {
     "ename": "UnboundLocalError",
     "evalue": "cannot access local variable 'scatter' where it is not associated with a value",
     "output_type": "error",
     "traceback": [
      "\u001b[0;31m---------------------------------------------------------------------------\u001b[0m",
      "\u001b[0;31mUnboundLocalError\u001b[0m                         Traceback (most recent call last)",
      "Cell \u001b[0;32mIn[53], line 3\u001b[0m\n\u001b[1;32m      1\u001b[0m image_base_name \u001b[38;5;241m=\u001b[39m os\u001b[38;5;241m.\u001b[39mpath\u001b[38;5;241m.\u001b[39mjoin(image_path, \u001b[38;5;124m\"\u001b[39m\u001b[38;5;124mabsorption\u001b[39m\u001b[38;5;124m\"\u001b[39m)\n\u001b[0;32m----> 3\u001b[0m \u001b[43mgraphing_utils\u001b[49m\u001b[38;5;241;43m.\u001b[39;49m\u001b[43mplot_results\u001b[49m\u001b[43m(\u001b[49m\u001b[43mgraphing_sae_ids\u001b[49m\u001b[43m,\u001b[49m\u001b[43m \u001b[49m\u001b[43meval_path\u001b[49m\u001b[43m,\u001b[49m\u001b[43m \u001b[49m\u001b[43mcore_results_path\u001b[49m\u001b[43m,\u001b[49m\u001b[43m \u001b[49m\u001b[43mimage_base_name\u001b[49m\u001b[43m,\u001b[49m\u001b[43m \u001b[49m\u001b[43mk\u001b[49m\u001b[43m,\u001b[49m\u001b[43m \u001b[49m\u001b[43mtrainer_markers\u001b[49m\u001b[43m)\u001b[49m\n",
      "File \u001b[0;32m~/SAEBench/sae_bench_utils/graphing_utils.py:93\u001b[0m, in \u001b[0;36mplot_results\u001b[0;34m(selected_saes, results_path, core_results_path, image_base_name, k, trainer_markers, title_prefix)\u001b[0m\n\u001b[1;32m     90\u001b[0m title_3var \u001b[38;5;241m=\u001b[39m \u001b[38;5;124mf\u001b[39m\u001b[38;5;124m\"\u001b[39m\u001b[38;5;132;01m{\u001b[39;00mtitle_prefix\u001b[38;5;132;01m}\u001b[39;00m\u001b[38;5;124mL0 vs Loss Recovered vs \u001b[39m\u001b[38;5;132;01m{\u001b[39;00mcustom_metric_name\u001b[38;5;132;01m}\u001b[39;00m\u001b[38;5;124m\"\u001b[39m\n\u001b[1;32m     91\u001b[0m title_2var \u001b[38;5;241m=\u001b[39m \u001b[38;5;124mf\u001b[39m\u001b[38;5;124m\"\u001b[39m\u001b[38;5;132;01m{\u001b[39;00mtitle_prefix\u001b[38;5;132;01m}\u001b[39;00m\u001b[38;5;124mL0 vs \u001b[39m\u001b[38;5;132;01m{\u001b[39;00mcustom_metric_name\u001b[38;5;132;01m}\u001b[39;00m\u001b[38;5;124m\"\u001b[39m\n\u001b[0;32m---> 93\u001b[0m \u001b[43mplot_3var_graph\u001b[49m\u001b[43m(\u001b[49m\n\u001b[1;32m     94\u001b[0m \u001b[43m    \u001b[49m\u001b[43meval_results\u001b[49m\u001b[43m,\u001b[49m\n\u001b[1;32m     95\u001b[0m \u001b[43m    \u001b[49m\u001b[43mtitle_3var\u001b[49m\u001b[43m,\u001b[49m\n\u001b[1;32m     96\u001b[0m \u001b[43m    \u001b[49m\u001b[43mcustom_metric\u001b[49m\u001b[43m,\u001b[49m\n\u001b[1;32m     97\u001b[0m \u001b[43m    \u001b[49m\u001b[43mcolorbar_label\u001b[49m\u001b[38;5;241;43m=\u001b[39;49m\u001b[38;5;124;43m\"\u001b[39;49m\u001b[38;5;124;43mCustom Metric\u001b[39;49m\u001b[38;5;124;43m\"\u001b[39;49m\u001b[43m,\u001b[49m\n\u001b[1;32m     98\u001b[0m \u001b[43m    \u001b[49m\u001b[43moutput_filename\u001b[49m\u001b[38;5;241;43m=\u001b[39;49m\u001b[38;5;124;43mf\u001b[39;49m\u001b[38;5;124;43m\"\u001b[39;49m\u001b[38;5;132;43;01m{\u001b[39;49;00m\u001b[43mimage_base_name\u001b[49m\u001b[38;5;132;43;01m}\u001b[39;49;00m\u001b[38;5;124;43m_3var.png\u001b[39;49m\u001b[38;5;124;43m\"\u001b[39;49m\u001b[43m,\u001b[49m\n\u001b[1;32m     99\u001b[0m \u001b[43m    \u001b[49m\u001b[43mtrainer_markers\u001b[49m\u001b[38;5;241;43m=\u001b[39;49m\u001b[43mtrainer_markers\u001b[49m\u001b[43m,\u001b[49m\n\u001b[1;32m    100\u001b[0m \u001b[43m\u001b[49m\u001b[43m)\u001b[49m\n\u001b[1;32m    101\u001b[0m plot_2var_graph(\n\u001b[1;32m    102\u001b[0m     eval_results,\n\u001b[1;32m    103\u001b[0m     custom_metric,\n\u001b[0;32m   (...)\u001b[0m\n\u001b[1;32m    107\u001b[0m     trainer_markers\u001b[38;5;241m=\u001b[39mtrainer_markers,\n\u001b[1;32m    108\u001b[0m )\n\u001b[1;32m    110\u001b[0m plot_2var_graph_dict_size(\n\u001b[1;32m    111\u001b[0m     eval_results,\n\u001b[1;32m    112\u001b[0m     custom_metric,\n\u001b[0;32m   (...)\u001b[0m\n\u001b[1;32m    115\u001b[0m     output_filename\u001b[38;5;241m=\u001b[39m\u001b[38;5;124mf\u001b[39m\u001b[38;5;124m\"\u001b[39m\u001b[38;5;132;01m{\u001b[39;00mimage_base_name\u001b[38;5;132;01m}\u001b[39;00m\u001b[38;5;124m_2var_dict_size.png\u001b[39m\u001b[38;5;124m\"\u001b[39m,\n\u001b[1;32m    116\u001b[0m )\n",
      "File \u001b[0;32m~/SAEBench/sae_bench_utils/graphing_utils.py:401\u001b[0m, in \u001b[0;36mplot_3var_graph\u001b[0;34m(results, title, custom_metric, xlims, ylims, colorbar_label, output_filename, legend_location, x_axis_key, y_axis_key, trainer_markers)\u001b[0m\n\u001b[1;32m    398\u001b[0m     labels\u001b[38;5;241m.\u001b[39mappend(trainer_label)\n\u001b[1;32m    400\u001b[0m \u001b[38;5;66;03m# Add colorbar\u001b[39;00m\n\u001b[0;32m--> 401\u001b[0m cbar \u001b[38;5;241m=\u001b[39m fig\u001b[38;5;241m.\u001b[39mcolorbar(\u001b[43mscatter\u001b[49m, ax\u001b[38;5;241m=\u001b[39max, label\u001b[38;5;241m=\u001b[39mcolorbar_label)\n\u001b[1;32m    403\u001b[0m \u001b[38;5;66;03m# Set labels and title\u001b[39;00m\n\u001b[1;32m    404\u001b[0m ax\u001b[38;5;241m.\u001b[39mset_xlabel(\u001b[38;5;124m\"\u001b[39m\u001b[38;5;124mL0 (Sparsity)\u001b[39m\u001b[38;5;124m\"\u001b[39m)\n",
      "\u001b[0;31mUnboundLocalError\u001b[0m: cannot access local variable 'scatter' where it is not associated with a value"
     ]
    },
    {
     "data": {
      "image/png": "[encoded data removed]",
      "text/plain": [
       "<Figure size 1000x600 with 1 Axes>"
      ]
     },
     "metadata": {},
     "output_type": "display_data"
    }
   ],
   "source": [
    "image_base_name = os.path.join(image_path, \"absorption\")\n",
    "\n",
    "graphing_utils.plot_results(graphing_sae_ids, eval_path, core_results_path, image_base_name, k, trainer_markers)"
   ]
  },
  {
   "cell_type": "code",
   "execution_count": null,
   "metadata": {},
   "outputs": [],
   "source": []
  }
 ],
 "metadata": {
  "kernelspec": {
   "display_name": "ravel_env",
   "language": "python",
   "name": "python3"
  },
  "language_info": {
   "codemirror_mode": {
    "name": "ipython",
    "version": 3
   },
   "file_extension": ".py",
   "mimetype": "text/x-python",
   "name": "python",
   "nbconvert_exporter": "python",
   "pygments_lexer": "ipython3",
   "version": "3.11.9"
  }
 },
 "nbformat": 4,
 "nbformat_minor": 2
}
