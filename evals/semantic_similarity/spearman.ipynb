{
 "cells": [
  {
   "cell_type": "code",
   "execution_count": 1,
   "metadata": {},
   "outputs": [
    {
     "name": "stderr",
     "output_type": "stream",
     "text": [
      "/share/u/can/miniconda3/envs/sem-sim-env/lib/python3.11/site-packages/tqdm/auto.py:21: TqdmWarning: IProgress not found. Please update jupyter and ipywidgets. See https://ipywidgets.readthedocs.io/en/stable/user_install.html\n",
      "  from .autonotebook import tqdm as notebook_tqdm\n"
     ]
    }
   ],
   "source": [
    "# Imports and Setup\n",
    "%load_ext autoreload\n",
    "%autoreload 2\n",
    "\n",
    "from sae_lens.toolkit.pretrained_saes_directory import get_pretrained_saes_directory\n",
    "import json\n",
    "from sentence_transformers import SentenceTransformer\n",
    "from transformer_lens import HookedTransformer\n",
    "import utils.activation_collection as activation_collection\n",
    "from eval_config import EvalConfig\n",
    "import utils.dataset_utils as dataset_utils\n",
    "import pandas as pd\n",
    "from tqdm import tqdm, trange\n",
    "import gc\n",
    "import torch\n",
    "from sae_lens import SAE\n",
    "from sae_lens.sae import TopK\n",
    "import utils.formatting_utils as formatting_utils"
   ]
  },
  {
   "cell_type": "code",
   "execution_count": 2,
   "metadata": {},
   "outputs": [],
   "source": [
    "data_fname = 'adjectives_BAAI-bge-multilingual-gemma2_cosine.pkl'\n",
    "\n",
    "# Load concepts\n",
    "with open(data_fname, 'rb') as f:\n",
    "    data = pd.read_pickle(f)"
   ]
  },
  {
   "cell_type": "code",
   "execution_count": 3,
   "metadata": {},
   "outputs": [],
   "source": [
    "# Configuration\n",
    "config = EvalConfig()\n",
    "device = \"cuda\"\n",
    "llm_batch_size = activation_collection.LLM_NAME_TO_BATCH_SIZE[config.model_name]\n",
    "llm_dtype = activation_collection.LLM_NAME_TO_DTYPE[config.model_name]"
   ]
  },
  {
   "cell_type": "code",
   "execution_count": 4,
   "metadata": {},
   "outputs": [
    {
     "name": "stderr",
     "output_type": "stream",
     "text": [
      "Special tokens have been added in the vocabulary, make sure the associated word embeddings are fine-tuned or trained.\n"
     ]
    },
    {
     "name": "stdout",
     "output_type": "stream",
     "text": [
      "Loaded pretrained model pythia-70m-deduped into HookedTransformer\n"
     ]
    }
   ],
   "source": [
    "# Initialize HookedTransformer\n",
    "model = HookedTransformer.from_pretrained_no_processing(\n",
    "    config.model_name, device=device, dtype=llm_dtype\n",
    ")"
   ]
  },
  {
   "cell_type": "code",
   "execution_count": 5,
   "metadata": {},
   "outputs": [
    {
     "name": "stderr",
     "output_type": "stream",
     "text": [
      "Tokenizing data: 100%|██████████| 1/1 [00:00<00:00, 141.97it/s]\n",
      "Collecting activations for class adjectives: 100%|██████████| 2/2 [00:00<00:00, 21.39it/s]"
     ]
    },
    {
     "name": "stderr",
     "output_type": "stream",
     "text": [
      "\n"
     ]
    }
   ],
   "source": [
    "# Tokenize data and collect activations\n",
    "tokenized = dataset_utils.tokenize_data(data['concepts'], model.tokenizer, config.context_length, device=device)\n",
    "all_llm_acts_BLD = activation_collection.get_all_llm_activations(\n",
    "    tokenized, model, llm_batch_size, config.hook_name\n",
    ")\n",
    "llm_acts_BD = activation_collection.create_meaned_model_activations(all_llm_acts_BLD)"
   ]
  },
  {
   "cell_type": "code",
   "execution_count": 6,
   "metadata": {},
   "outputs": [],
   "source": [
    "# SAE setup\n",
    "selected_saes_dict = {'sae_bench_pythia70m_sweep_topk_ctx128_0730':\n",
    "    ['pythia70m_sweep_topk_ctx128_0730/resid_post_layer_4/trainer_10',\n",
    "    'pythia70m_sweep_topk_ctx128_0730/resid_post_layer_4/trainer_12']}\n",
    "\n",
    "sae_release = 'sae_bench_pythia70m_sweep_topk_ctx128_0730'\n",
    "\n",
    "sae_map_df = pd.DataFrame.from_records(\n",
    "    {k: v.__dict__ for k, v in get_pretrained_saes_directory().items()}\n",
    ").T\n",
    "\n",
    "sae_id_to_name_map = sae_map_df.saes_map[sae_release]\n",
    "sae_name_to_id_map = {v: k for k, v in sae_id_to_name_map.items()}\n",
    "\n",
    "sae_name = selected_saes_dict[sae_release][0]\n",
    "sae_id = sae_name_to_id_map[sae_name]"
   ]
  },
  {
   "cell_type": "code",
   "execution_count": 7,
   "metadata": {},
   "outputs": [],
   "source": [
    "# Load and prepare SAE\n",
    "gc.collect()\n",
    "torch.cuda.empty_cache()\n",
    "\n",
    "sae, cfg_dict, sparsity = SAE.from_pretrained(\n",
    "    release=sae_release,\n",
    "    sae_id=sae_id,\n",
    "    device=device,\n",
    ")\n",
    "sae = sae.to(device=device)\n",
    "\n",
    "if \"topk\" in sae_name and not isinstance(sae.activation_fn, TopK):\n",
    "    sae = formatting_utils.fix_topk_saes(sae, sae_release, sae_name, data_dir=\"../../\")\n",
    "    assert isinstance(sae.activation_fn, TopK)"
   ]
  },
  {
   "cell_type": "code",
   "execution_count": 8,
   "metadata": {},
   "outputs": [
    {
     "name": "stdout",
     "output_type": "stream",
     "text": [
      "dict_keys(['adjectives'])\n"
     ]
    }
   ],
   "source": [
    "# Get SAE activations\n",
    "all_sae_acts_BF = activation_collection.get_sae_meaned_activations(\n",
    "    all_llm_acts_BLD, sae, config.sae_batch_size, llm_dtype\n",
    ")\n",
    "\n",
    "# Print available keys in all_sae_train_acts_BF\n",
    "print(all_sae_acts_BF.keys())"
   ]
  },
  {
   "cell_type": "code",
   "execution_count": 9,
   "metadata": {},
   "outputs": [
    {
     "data": {
      "text/plain": [
       "torch.Size([981, 16384])"
      ]
     },
     "execution_count": 9,
     "metadata": {},
     "output_type": "execute_result"
    }
   ],
   "source": [
    "concept_name = 'adjectives'\n",
    "all_sae_acts_BF[concept_name].shape"
   ]
  },
  {
   "cell_type": "code",
   "execution_count": 19,
   "metadata": {},
   "outputs": [
    {
     "data": {
      "text/plain": [
       "(array([1.4608e+04, 7.4200e+02, 2.9000e+02, 1.6900e+02, 8.4000e+01,\n",
       "        5.1000e+01, 5.9000e+01, 3.5000e+01, 3.7000e+01, 1.9000e+01,\n",
       "        2.6000e+01, 2.6000e+01, 7.0000e+00, 1.5000e+01, 1.0000e+01,\n",
       "        1.1000e+01, 9.0000e+00, 1.0000e+01, 7.0000e+00, 9.0000e+00,\n",
       "        6.0000e+00, 1.0000e+00, 2.0000e+00, 3.0000e+00, 8.0000e+00,\n",
       "        4.0000e+00, 2.0000e+00, 4.0000e+00, 4.0000e+00, 3.0000e+00,\n",
       "        3.0000e+00, 3.0000e+00, 1.0000e+00, 1.0000e+00, 0.0000e+00,\n",
       "        1.0000e+00, 3.0000e+00, 2.0000e+00, 4.0000e+00, 2.0000e+00,\n",
       "        2.0000e+00, 2.0000e+00, 1.0000e+00, 2.0000e+00, 1.0000e+00,\n",
       "        1.0000e+00, 1.0000e+00, 3.0000e+00, 0.0000e+00, 0.0000e+00,\n",
       "        0.0000e+00, 2.0000e+00, 0.0000e+00, 1.0000e+00, 0.0000e+00,\n",
       "        0.0000e+00, 1.0000e+00, 0.0000e+00, 1.0000e+00, 1.0000e+00,\n",
       "        0.0000e+00, 0.0000e+00, 0.0000e+00, 1.0000e+00, 0.0000e+00,\n",
       "        0.0000e+00, 0.0000e+00, 0.0000e+00, 0.0000e+00, 0.0000e+00,\n",
       "        0.0000e+00, 1.0000e+00, 0.0000e+00, 0.0000e+00, 0.0000e+00,\n",
       "        0.0000e+00, 0.0000e+00, 0.0000e+00, 1.0000e+00, 0.0000e+00,\n",
       "        0.0000e+00, 0.0000e+00, 1.0000e+00, 0.0000e+00, 0.0000e+00,\n",
       "        0.0000e+00, 0.0000e+00, 0.0000e+00, 0.0000e+00, 0.0000e+00,\n",
       "        0.0000e+00, 0.0000e+00, 0.0000e+00, 0.0000e+00, 0.0000e+00,\n",
       "        0.0000e+00, 0.0000e+00, 0.0000e+00, 0.0000e+00, 8.0000e+01]),\n",
       " array([0.        , 0.01      , 0.02      , 0.03      , 0.04      ,\n",
       "        0.05      , 0.05999999, 0.06999999, 0.08      , 0.09      ,\n",
       "        0.09999999, 0.10999999, 0.11999999, 0.13      , 0.13999999,\n",
       "        0.14999999, 0.16      , 0.16999999, 0.17999999, 0.18999998,\n",
       "        0.19999999, 0.20999999, 0.21999998, 0.22999999, 0.23999998,\n",
       "        0.24999999, 0.25999999, 0.26999998, 0.27999997, 0.28999999,\n",
       "        0.29999998, 0.30999997, 0.31999999, 0.32999998, 0.33999997,\n",
       "        0.34999996, 0.35999998, 0.36999997, 0.37999997, 0.38999999,\n",
       "        0.39999998, 0.40999997, 0.41999999, 0.42999998, 0.43999997,\n",
       "        0.44999999, 0.45999998, 0.46999997, 0.47999996, 0.48999998,\n",
       "        0.49999997, 0.50999999, 0.51999998, 0.52999997, 0.53999996,\n",
       "        0.54999995, 0.55999994, 0.56999999, 0.57999998, 0.58999997,\n",
       "        0.59999996, 0.60999995, 0.61999995, 0.62999994, 0.63999999,\n",
       "        0.64999998, 0.65999997, 0.66999996, 0.67999995, 0.68999994,\n",
       "        0.69999993, 0.70999998, 0.71999997, 0.72999996, 0.73999995,\n",
       "        0.74999994, 0.75999993, 0.76999998, 0.77999997, 0.78999996,\n",
       "        0.79999995, 0.80999994, 0.81999993, 0.82999992, 0.83999997,\n",
       "        0.84999996, 0.85999995, 0.86999995, 0.87999994, 0.88999993,\n",
       "        0.89999998, 0.90999997, 0.91999996, 0.92999995, 0.93999994,\n",
       "        0.94999993, 0.95999992, 0.96999997, 0.97999996, 0.98999995,\n",
       "        0.99999994]),\n",
       " <BarContainer object of 100 artists>)"
      ]
     },
     "execution_count": 19,
     "metadata": {},
     "output_type": "execute_result"
    },
    {
     "data": {
      "image/png": "[encoded data removed]",
      "text/plain": [
       "<Figure size 640x480 with 1 Axes>"
      ]
     },
     "metadata": {},
     "output_type": "display_data"
    }
   ],
   "source": [
    "# activation density histogram\n",
    "import matplotlib.pyplot as plt\n",
    "binary_activation_BF = all_sae_acts_BF[concept_name] > 0\n",
    "feature_density_F = binary_activation_BF.sum(axis=0) / all_sae_acts_BF[concept_name].shape[0]\n",
    "feature_density = feature_density_F[feature_density_F > 1e-5]\n",
    "\n",
    "plt.hist(feature_density_F.cpu().numpy(), bins=100)"
   ]
  },
  {
   "cell_type": "code",
   "execution_count": 25,
   "metadata": {},
   "outputs": [
    {
     "name": "stderr",
     "output_type": "stream",
     "text": [
      "100%|██████████| 1/1 [00:00<00:00, 1996.34it/s]\n"
     ]
    }
   ],
   "source": [
    "# Compute spearman correlation between data['similarities'] of shape [W, W] and all_sae_acts_BF[concept_name] of shape [W, F]\n",
    "\n",
    "import torch\n",
    "\n",
    "def spearman_correlation_matrix(x, y):\n",
    "    \"\"\"\n",
    "    Compute Spearman correlation matrix between x and y.\n",
    "    x shape: [W1, F]\n",
    "    y shape: [W1, W2]\n",
    "    Returns: tensor of shape [W2, F]\n",
    "    \"\"\"\n",
    "    W1, F = x.shape\n",
    "    W2 = y.shape[1]\n",
    "    \n",
    "    # Convert to ranks\n",
    "    x_rank = x.argsort(dim=0).argsort(dim=0).float()\n",
    "    y_rank = y.argsort(dim=0).argsort(dim=0).float()\n",
    "    \n",
    "    # Center the ranks\n",
    "    x_rank -= x_rank.mean(dim=0, keepdim=True)\n",
    "    y_rank -= y_rank.mean(dim=0, keepdim=True)\n",
    "    \n",
    "    # Compute correlation\n",
    "    x_std = torch.sqrt(torch.sum(x_rank**2, dim=0))\n",
    "    y_std = torch.sqrt(torch.sum(y_rank**2, dim=0))\n",
    "    \n",
    "    corr = torch.matmul(y_rank.t(), x_rank) / (W1 - 1)\n",
    "    corr /= y_std.unsqueeze(1) * x_std.unsqueeze(0)\n",
    "    \n",
    "    return corr\n",
    "\n",
    "activations = all_sae_acts_BF[concept_name].to(device)\n",
    "similarities = data['similarities'].to(device)\n",
    "\n",
    "feature_batch_size = int(2**14)\n",
    "spearman_correlations = []\n",
    "for i in trange(0, activations.shape[1], feature_batch_size):\n",
    "    spearman_correlations.append(\n",
    "        spearman_correlation_matrix(\n",
    "            similarities, activations[:, i:i+feature_batch_size]\n",
    "        )\n",
    "    )\n",
    "spearman_correlations = torch.cat(spearman_correlations, dim=0)"
   ]
  },
  {
   "cell_type": "code",
   "execution_count": 34,
   "metadata": {},
   "outputs": [
    {
     "data": {
      "text/plain": [
       "tensor(0.0007, device='cuda:0')"
      ]
     },
     "execution_count": 34,
     "metadata": {},
     "output_type": "execute_result"
    }
   ],
   "source": [
    "spearman_correlations.max()"
   ]
  },
  {
   "cell_type": "code",
   "execution_count": 33,
   "metadata": {},
   "outputs": [
    {
     "data": {
      "text/plain": [
       "(array([ 1.,  1.,  1.,  0.,  2.,  4.,  2.,  3.,  3.,  5.,  5.,  3.,  4.,\n",
       "         6.,  8., 12.,  7.,  8.,  8., 11., 13., 14., 11., 10.,  9., 18.,\n",
       "        19., 15., 14., 14., 11., 17., 14., 18., 17., 13., 13., 20., 27.,\n",
       "        21., 13., 20., 17., 24., 14., 18., 19., 16., 23., 15., 14., 24.,\n",
       "        21., 16., 18., 22., 15., 16., 15., 12., 18., 12.,  6., 12., 13.,\n",
       "         6., 14., 11.,  9.,  5., 16., 13., 12.,  5.,  8.,  9.,  6.,  5.,\n",
       "         7.,  4.,  4.,  6.,  1.,  1.,  2.,  2.,  1.,  2.,  4.,  3.,  4.,\n",
       "         2.,  3.,  0.,  0.,  0.,  0.,  0.,  0.,  1.]),\n",
       " array([-4.41925573, -4.34610319, -4.27295065, -4.19979811, -4.12664509,\n",
       "        -4.05349255, -3.98034   , -3.90718746, -3.83403492, -3.76088238,\n",
       "        -3.68772984, -3.61457705, -3.54142451, -3.46827197, -3.39511919,\n",
       "        -3.32196665, -3.24881411, -3.17566156, -3.10250902, -3.02935624,\n",
       "        -2.9562037 , -2.88305116, -2.80989838, -2.73674583, -2.66359329,\n",
       "        -2.59044075, -2.51728821, -2.44413543, -2.37098289, -2.29783034,\n",
       "        -2.22467756, -2.15152502, -2.07837248, -2.00521994, -1.93206728,\n",
       "        -1.85891461, -1.78576207, -1.71260953, -1.63945687, -1.56630421,\n",
       "        -1.49315166, -1.41999912, -1.34684646, -1.2736938 , -1.20054126,\n",
       "        -1.12738872, -1.05423605, -0.98108345, -0.90793085, -0.83477825,\n",
       "        -0.76162565, -0.68847305, -0.61532044, -0.54216784, -0.46901524,\n",
       "        -0.39586264, -0.32271004, -0.24955744, -0.17640483, -0.10325223,\n",
       "        -0.03009963,  0.04305297,  0.11620557,  0.18935817,  0.26251078,\n",
       "         0.33566338,  0.40881598,  0.48196858,  0.55512118,  0.62827379,\n",
       "         0.70142639,  0.77457899,  0.84773159,  0.92088419,  0.99403679,\n",
       "         1.06718946,  1.140342  ,  1.21349454,  1.2866472 ,  1.35979986,\n",
       "         1.4329524 ,  1.50610495,  1.57925761,  1.65241027,  1.72556281,\n",
       "         1.79871535,  1.87186801,  1.94502068,  2.01817322,  2.09132576,\n",
       "         2.1644783 ,  2.23763108,  2.31078362,  2.38393617,  2.45708895,\n",
       "         2.53024149,  2.60339403,  2.67654657,  2.74969912,  2.8228519 ,\n",
       "         2.89600444]),\n",
       " <BarContainer object of 100 artists>)"
      ]
     },
     "execution_count": 33,
     "metadata": {},
     "output_type": "execute_result"
    },
    {
     "data": {
      "image/png": "[encoded data removed]",
      "text/plain": [
       "<Figure size 640x480 with 1 Axes>"
      ]
     },
     "metadata": {},
     "output_type": "display_data"
    }
   ],
   "source": [
    "import matplotlib.pyplot as plt\n",
    "plt.hist(spearman_correlations.sum(dim=0).cpu().numpy(), bins=100)"
   ]
  },
  {
   "cell_type": "code",
   "execution_count": null,
   "metadata": {},
   "outputs": [],
   "source": [
    "# for each feature and each wr"
   ]
  }
 ],
 "metadata": {
  "kernelspec": {
   "display_name": "Python 3",
   "language": "python",
   "name": "python3"
  },
  "language_info": {
   "codemirror_mode": {
    "name": "ipython",
    "version": 3
   },
   "file_extension": ".py",
   "mimetype": "text/x-python",
   "name": "python",
   "nbconvert_exporter": "python",
   "pygments_lexer": "ipython3",
   "version": "3.11.9"
  }
 },
 "nbformat": 4,
 "nbformat_minor": 4
}
