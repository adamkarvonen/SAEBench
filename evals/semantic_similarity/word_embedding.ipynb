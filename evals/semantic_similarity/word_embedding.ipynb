{
 "cells": [
  {
   "cell_type": "code",
   "execution_count": null,
   "metadata": {},
   "outputs": [],
   "source": [
    "# Imports and Setup\n",
    "%load_ext autoreload\n",
    "%autoreload 2\n",
    "\n",
    "from sae_lens.toolkit.pretrained_saes_directory import get_pretrained_saes_directory\n",
    "import json\n",
    "from sentence_transformers import SentenceTransformer\n",
    "from transformer_lens import HookedTransformer\n",
    "import utils.activation_collection as activation_collection\n",
    "from eval_config import EvalConfig\n",
    "import utils.dataset_utils as dataset_utils\n",
    "import pandas as pd\n",
    "from tqdm import tqdm\n",
    "import gc\n",
    "import torch\n",
    "from sae_lens import SAE\n",
    "from sae_lens.sae import TopK\n",
    "import utils.formatting_utils as formatting_utils"
   ]
  },
  {
   "cell_type": "code",
   "execution_count": null,
   "metadata": {},
   "outputs": [],
   "source": [
    "# Configuration\n",
    "config = EvalConfig()\n",
    "device = \"cuda\"\n",
    "llm_batch_size = activation_collection.LLM_NAME_TO_BATCH_SIZE[config.model_name]\n",
    "llm_dtype = activation_collection.LLM_NAME_TO_DTYPE[config.model_name]"
   ]
  },
  {
   "cell_type": "code",
   "execution_count": null,
   "metadata": {},
   "outputs": [],
   "source": [
    "# Load concepts\n",
    "with open('concepts.json') as f:\n",
    "    concepts = json.load(f)\n",
    "\n",
    "# Print first 5 adjectives\n",
    "print(concepts['adjectives'][:5])"
   ]
  },
  {
   "cell_type": "code",
   "execution_count": null,
   "metadata": {},
   "outputs": [],
   "source": [
    "# Initialize SentenceTransformer model\n",
    "model = SentenceTransformer(\"nomic-ai/nomic-embed-text-v1\", trust_remote_code=True)"
   ]
  },
  {
   "cell_type": "code",
   "execution_count": null,
   "metadata": {},
   "outputs": [],
   "source": [
    "# Generate embeddings\n",
    "queries = concepts['adjectives']\n",
    "query_embeddings = model.encode(queries)\n",
    "print(f'shape of query_embeddings: {query_embeddings.shape}')"
   ]
  },
  {
   "cell_type": "code",
   "execution_count": null,
   "metadata": {},
   "outputs": [],
   "source": [
    "# Calculate similarities\n",
    "print(f\"Similarity function: {model.similarity_fn_name}\")\n",
    "similarities = model.similarity(query_embeddings, query_embeddings)\n",
    "print(similarities)"
   ]
  },
  {
   "cell_type": "code",
   "execution_count": null,
   "metadata": {},
   "outputs": [],
   "source": [
    "# Initialize HookedTransformer\n",
    "model = HookedTransformer.from_pretrained_no_processing(\n",
    "    config.model_name, device=device, dtype=llm_dtype\n",
    ")"
   ]
  },
  {
   "cell_type": "code",
   "execution_count": null,
   "metadata": {},
   "outputs": [],
   "source": [
    "# Tokenize data and collect activations\n",
    "tokenized = dataset_utils.tokenize_data(concepts, model.tokenizer, config.context_length, device=device)\n",
    "all_llm_acts_BLD = activation_collection.get_all_llm_activations(\n",
    "    tokenized, model, llm_batch_size, config.hook_name\n",
    ")\n",
    "llm_acts_BD = activation_collection.create_meaned_model_activations(all_llm_acts_BLD)"
   ]
  },
  {
   "cell_type": "code",
   "execution_count": null,
   "metadata": {},
   "outputs": [],
   "source": [
    "# SAE setup\n",
    "selected_saes_dict = {'sae_bench_pythia70m_sweep_topk_ctx128_0730':\n",
    "    ['pythia70m_sweep_topk_ctx128_0730/resid_post_layer_4/trainer_10',\n",
    "    'pythia70m_sweep_topk_ctx128_0730/resid_post_layer_4/trainer_12']}\n",
    "\n",
    "sae_release = 'sae_bench_pythia70m_sweep_topk_ctx128_0730'\n",
    "\n",
    "sae_map_df = pd.DataFrame.from_records(\n",
    "    {k: v.__dict__ for k, v in get_pretrained_saes_directory().items()}\n",
    ").T\n",
    "\n",
    "sae_id_to_name_map = sae_map_df.saes_map[sae_release]\n",
    "sae_name_to_id_map = {v: k for k, v in sae_id_to_name_map.items()}\n",
    "\n",
    "sae_name = selected_saes_dict[sae_release][0]\n",
    "sae_id = sae_name_to_id_map[sae_name]"
   ]
  },
  {
   "cell_type": "code",
   "execution_count": null,
   "metadata": {},
   "outputs": [],
   "source": [
    "# Load and prepare SAE\n",
    "gc.collect()\n",
    "torch.cuda.empty_cache()\n",
    "\n",
    "sae, cfg_dict, sparsity = SAE.from_pretrained(\n",
    "    release=sae_release,\n",
    "    sae_id=sae_id,\n",
    "    device=device,\n",
    ")\n",
    "sae = sae.to(device=device)\n",
    "\n",
    "if \"topk\" in sae_name and not isinstance(sae.activation_fn, TopK):\n",
    "    sae = formatting_utils.fix_topk_saes(sae, sae_release, sae_name, data_dir=\"../../\")\n",
    "    assert isinstance(sae.activation_fn, TopK)"
   ]
  },
  {
   "cell_type": "code",
   "execution_count": null,
   "metadata": {},
   "outputs": [],
   "source": [
    "# Get SAE activations\n",
    "all_sae_train_acts_BF = activation_collection.get_sae_meaned_activations(\n",
    "    all_llm_acts_BLD, sae, config.sae_batch_size, llm_dtype\n",
    ")\n",
    "\n",
    "# Print available keys in all_sae_train_acts_BF\n",
    "print(all_sae_train_acts_BF.keys())"
   ]
  }
 ],
 "metadata": {
  "kernelspec": {
   "display_name": "Python 3",
   "language": "python",
   "name": "python3"
  },
  "language_info": {
   "codemirror_mode": {
    "name": "ipython",
    "version": 3
   },
   "file_extension": ".py",
   "mimetype": "text/x-python",
   "name": "python",
   "nbconvert_exporter": "python",
   "pygments_lexer": "ipython3",
   "version": "3.8.0"
  }
 },
 "nbformat": 4,
 "nbformat_minor": 4
}