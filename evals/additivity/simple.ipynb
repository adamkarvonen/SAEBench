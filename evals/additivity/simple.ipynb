{
 "cells": [
  {
   "cell_type": "code",
   "execution_count": 2,
   "metadata": {},
   "outputs": [
    {
     "name": "stderr",
     "output_type": "stream",
     "text": [
      "/share/u/can/miniconda3/envs/sem-sim-env/lib/python3.11/site-packages/tqdm/auto.py:21: TqdmWarning: IProgress not found. Please update jupyter and ipywidgets. See https://ipywidgets.readthedocs.io/en/stable/user_install.html\n",
      "  from .autonotebook import tqdm as notebook_tqdm\n"
     ]
    }
   ],
   "source": [
    "# Imports and Setup\n",
    "%load_ext autoreload\n",
    "%autoreload 2\n",
    "\n",
    "from sae_lens.toolkit.pretrained_saes_directory import get_pretrained_saes_directory\n",
    "import json\n",
    "from sentence_transformers import SentenceTransformer\n",
    "from transformer_lens import HookedTransformer\n",
    "import sae_bench_utils.activation_collection as activation_collection\n",
    "from eval_config import EvalConfig\n",
    "import sae_bench_utils.dataset_utils as dataset_utils\n",
    "import pandas as pd\n",
    "from tqdm import tqdm, trange\n",
    "import gc\n",
    "import torch\n",
    "from sae_lens import SAE\n",
    "from sae_lens.sae import TopK\n",
    "import sae_bench_utils.formatting_utils as formatting_utils"
   ]
  },
  {
   "cell_type": "code",
   "execution_count": 3,
   "metadata": {},
   "outputs": [],
   "source": [
    "# Configuration\n",
    "config = EvalConfig()\n",
    "device = \"cuda\"\n",
    "llm_batch_size = activation_collection.LLM_NAME_TO_BATCH_SIZE[config.model_name]\n",
    "llm_dtype = activation_collection.LLM_NAME_TO_DTYPE[config.model_name]"
   ]
  },
  {
   "cell_type": "code",
   "execution_count": 4,
   "metadata": {},
   "outputs": [
    {
     "name": "stderr",
     "output_type": "stream",
     "text": [
      "Special tokens have been added in the vocabulary, make sure the associated word embeddings are fine-tuned or trained.\n"
     ]
    },
    {
     "name": "stdout",
     "output_type": "stream",
     "text": [
      "Loaded pretrained model pythia-70m-deduped into HookedTransformer\n"
     ]
    }
   ],
   "source": [
    "# Initialize HookedTransformer\n",
    "model = HookedTransformer.from_pretrained_no_processing(\n",
    "    config.model_name, device=device, dtype=llm_dtype\n",
    ")"
   ]
  },
  {
   "cell_type": "code",
   "execution_count": 5,
   "metadata": {},
   "outputs": [],
   "source": [
    "s1 = \"Miles Davis played the\"\n",
    "s2 = \"Paris is the capital of\"\n",
    "\n"
   ]
  },
  {
   "cell_type": "code",
   "execution_count": 18,
   "metadata": {},
   "outputs": [],
   "source": [
    "def get_activations(sentences: list[str], hook_name: str):\n",
    "    out = []\n",
    "    for s in sentences:\n",
    "        acts_BLD = None\n",
    "        def activation_hook(resid_BLD: torch.Tensor, hook):\n",
    "            nonlocal acts_BLD\n",
    "            acts_BLD = resid_BLD\n",
    "\n",
    "        model.run_with_hooks(\n",
    "            s, return_type=None, fwd_hooks=[(hook_name, activation_hook)]\n",
    "        )\n",
    "        out.append(acts_BLD[0])\n",
    "    return out\n",
    "\n",
    "acts = get_activations([s1, s2], config.hook_name)"
   ]
  },
  {
   "cell_type": "code",
   "execution_count": 19,
   "metadata": {},
   "outputs": [
    {
     "data": {
      "text/plain": [
       "(torch.Size([6, 512]), torch.Size([6, 512]))"
      ]
     },
     "execution_count": 19,
     "metadata": {},
     "output_type": "execute_result"
    }
   ],
   "source": [
    "acts[0].shape, acts[1].shape"
   ]
  },
  {
   "cell_type": "code",
   "execution_count": 20,
   "metadata": {},
   "outputs": [],
   "source": [
    "r1 = acts[0][-1]\n",
    "r2 = acts[1][-1]"
   ]
  },
  {
   "cell_type": "markdown",
   "metadata": {},
   "source": [
    "## Feed through SAE"
   ]
  },
  {
   "cell_type": "code",
   "execution_count": 22,
   "metadata": {},
   "outputs": [],
   "source": [
    "# SAE setup\n",
    "selected_saes_dict = {'sae_bench_pythia70m_sweep_topk_ctx128_0730':\n",
    "    ['pythia70m_sweep_topk_ctx128_0730/resid_post_layer_4/trainer_10',\n",
    "    'pythia70m_sweep_topk_ctx128_0730/resid_post_layer_4/trainer_12']}\n",
    "\n",
    "sae_release = 'sae_bench_pythia70m_sweep_topk_ctx128_0730'\n",
    "\n",
    "sae_map_df = pd.DataFrame.from_records(\n",
    "    {k: v.__dict__ for k, v in get_pretrained_saes_directory().items()}\n",
    ").T\n",
    "\n",
    "sae_id_to_name_map = sae_map_df.saes_map[sae_release]\n",
    "sae_name_to_id_map = {v: k for k, v in sae_id_to_name_map.items()}\n",
    "\n",
    "sae_name = selected_saes_dict[sae_release][0]\n",
    "sae_id = sae_name_to_id_map[sae_name]"
   ]
  },
  {
   "cell_type": "code",
   "execution_count": 23,
   "metadata": {},
   "outputs": [],
   "source": [
    "# Load and prepare SAE\n",
    "gc.collect()\n",
    "torch.cuda.empty_cache()\n",
    "\n",
    "sae, cfg_dict, sparsity = SAE.from_pretrained(\n",
    "    release=sae_release,\n",
    "    sae_id=sae_id,\n",
    "    device=device,\n",
    ")\n",
    "sae = sae.to(device=device)\n",
    "\n",
    "if \"topk\" in sae_name and not isinstance(sae.activation_fn, TopK):\n",
    "    sae = formatting_utils.fix_topk_saes(sae, sae_release, sae_name, data_dir=\"../../\")\n",
    "    assert isinstance(sae.activation_fn, TopK)"
   ]
  },
  {
   "cell_type": "code",
   "execution_count": 24,
   "metadata": {},
   "outputs": [],
   "source": [
    "f1 = sae.encode(r1).nonzero().squeeze()\n",
    "f2 = sae.encode(r2).nonzero().squeeze()\n",
    "f12 = sae.encode(r1+r2).nonzero().squeeze()"
   ]
  },
  {
   "cell_type": "code",
   "execution_count": 26,
   "metadata": {},
   "outputs": [],
   "source": [
    "pre_enc_set = set(f1.tolist() + f2.tolist())\n",
    "post_enc_set = set(f12.tolist())\n",
    "\n",
    "intersection = pre_enc_set.intersection(post_enc_set)\n",
    "difference = pre_enc_set.symmetric_difference(post_enc_set)"
   ]
  },
  {
   "cell_type": "code",
   "execution_count": 27,
   "metadata": {},
   "outputs": [
    {
     "data": {
      "text/plain": [
       "(148, 80, 57, 114)"
      ]
     },
     "execution_count": 27,
     "metadata": {},
     "output_type": "execute_result"
    }
   ],
   "source": [
    "len(pre_enc_set), len(post_enc_set), len(intersection), len(difference)"
   ]
  }
 ],
 "metadata": {
  "kernelspec": {
   "display_name": "sem-sim-env",
   "language": "python",
   "name": "python3"
  },
  "language_info": {
   "codemirror_mode": {
    "name": "ipython",
    "version": 3
   },
   "file_extension": ".py",
   "mimetype": "text/x-python",
   "name": "python",
   "nbconvert_exporter": "python",
   "pygments_lexer": "ipython3",
   "version": "3.11.9"
  }
 },
 "nbformat": 4,
 "nbformat_minor": 4
}
