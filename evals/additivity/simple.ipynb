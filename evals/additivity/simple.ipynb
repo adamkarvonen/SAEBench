{
 "cells": [
  {
   "cell_type": "code",
   "execution_count": 1,
   "metadata": {},
   "outputs": [
    {
     "name": "stderr",
     "output_type": "stream",
     "text": [
      "/share/u/can/miniconda3/envs/sem-sim-env/lib/python3.11/site-packages/tqdm/auto.py:21: TqdmWarning: IProgress not found. Please update jupyter and ipywidgets. See https://ipywidgets.readthedocs.io/en/stable/user_install.html\n",
      "  from .autonotebook import tqdm as notebook_tqdm\n"
     ]
    }
   ],
   "source": [
    "# Imports and Setup\n",
    "%load_ext autoreload\n",
    "%autoreload 2\n",
    "\n",
    "from sae_lens.toolkit.pretrained_saes_directory import get_pretrained_saes_directory\n",
    "import json\n",
    "from transformer_lens import HookedTransformer\n",
    "import sae_bench_utils.activation_collection as activation_collection\n",
    "from eval_config import EvalConfig\n",
    "import sae_bench_utils.dataset_utils as dataset_utils\n",
    "import pandas as pd\n",
    "from tqdm import tqdm, trange\n",
    "import gc\n",
    "import torch\n",
    "from sae_lens import SAE\n",
    "from sae_lens.sae import TopK\n",
    "import sae_bench_utils.formatting_utils as formatting_utils"
   ]
  },
  {
   "cell_type": "code",
   "execution_count": 2,
   "metadata": {},
   "outputs": [],
   "source": [
    "# Configuration\n",
    "config = EvalConfig()\n",
    "device = \"cuda\"\n",
    "llm_batch_size = activation_collection.LLM_NAME_TO_BATCH_SIZE[config.model_name]\n",
    "llm_dtype = activation_collection.LLM_NAME_TO_DTYPE[config.model_name]"
   ]
  },
  {
   "cell_type": "code",
   "execution_count": 3,
   "metadata": {},
   "outputs": [
    {
     "name": "stderr",
     "output_type": "stream",
     "text": [
      "Special tokens have been added in the vocabulary, make sure the associated word embeddings are fine-tuned or trained.\n"
     ]
    },
    {
     "name": "stdout",
     "output_type": "stream",
     "text": [
      "Loaded pretrained model pythia-70m-deduped into HookedTransformer\n"
     ]
    }
   ],
   "source": [
    "# Initialize HookedTransformer\n",
    "model = HookedTransformer.from_pretrained_no_processing(\n",
    "    config.model_name, device=device, dtype=llm_dtype\n",
    ")"
   ]
  },
  {
   "cell_type": "code",
   "execution_count": 4,
   "metadata": {},
   "outputs": [],
   "source": [
    "with open(\"known_1000.json\", \"r\") as f:\n",
    "    known_1000 = json.load(f)\n",
    "\n",
    "# prompts = known_1000[\"prompt\"]\n",
    "prompts = [f\"{s['prompt']} {s['attribute']}\" for s in known_1000]\n",
    "\n",
    "prompts[:5]\n",
    "data = dict(prompts=prompts)"
   ]
  },
  {
   "cell_type": "code",
   "execution_count": 9,
   "metadata": {},
   "outputs": [
    {
     "name": "stderr",
     "output_type": "stream",
     "text": [
      "Tokenizing data:   0%|          | 0/1 [00:00<?, ?it/s]"
     ]
    },
    {
     "name": "stderr",
     "output_type": "stream",
     "text": [
      "Tokenizing data: 100%|██████████| 1/1 [00:00<00:00, 21.98it/s]\n"
     ]
    }
   ],
   "source": [
    "tokenized_data = dataset_utils.tokenize_data(data, model.tokenizer, max_length=64, device=device)"
   ]
  },
  {
   "cell_type": "code",
   "execution_count": 29,
   "metadata": {},
   "outputs": [
    {
     "name": "stderr",
     "output_type": "stream",
     "text": [
      "Collecting activations for class prompts: 100%|██████████| 3/3 [00:00<00:00, 20.38it/s]\n"
     ]
    }
   ],
   "source": [
    "llm_activations_BLD = activation_collection.get_all_llm_activations(\n",
    "    tokenized_data,\n",
    "    model,\n",
    "    batch_size=512,\n",
    "    hook_name = config.hook_name,\n",
    ")"
   ]
  },
  {
   "cell_type": "code",
   "execution_count": 36,
   "metadata": {},
   "outputs": [],
   "source": [
    "final_acts_BD = activation_collection.filter_final_token_activations(llm_activations_BLD, tokenized_data)\n",
    "acts = final_acts_BD['prompts']"
   ]
  },
  {
   "cell_type": "markdown",
   "metadata": {},
   "source": [
    "## Feed through SAE"
   ]
  },
  {
   "cell_type": "code",
   "execution_count": 37,
   "metadata": {},
   "outputs": [],
   "source": [
    "r1 = acts[0]\n",
    "r2 = acts[1]"
   ]
  },
  {
   "cell_type": "code",
   "execution_count": 38,
   "metadata": {},
   "outputs": [],
   "source": [
    "# SAE setup\n",
    "selected_saes_dict = {'sae_bench_pythia70m_sweep_topk_ctx128_0730':\n",
    "    ['pythia70m_sweep_topk_ctx128_0730/resid_post_layer_4/trainer_10',\n",
    "    'pythia70m_sweep_topk_ctx128_0730/resid_post_layer_4/trainer_12']}\n",
    "\n",
    "sae_release = 'sae_bench_pythia70m_sweep_topk_ctx128_0730'\n",
    "\n",
    "sae_map_df = pd.DataFrame.from_records(\n",
    "    {k: v.__dict__ for k, v in get_pretrained_saes_directory().items()}\n",
    ").T\n",
    "\n",
    "sae_id_to_name_map = sae_map_df.saes_map[sae_release]\n",
    "sae_name_to_id_map = {v: k for k, v in sae_id_to_name_map.items()}\n",
    "\n",
    "sae_name = selected_saes_dict[sae_release][0]\n",
    "sae_id = sae_name_to_id_map[sae_name]"
   ]
  },
  {
   "cell_type": "code",
   "execution_count": 42,
   "metadata": {},
   "outputs": [],
   "source": [
    "# Load and prepare SAE\n",
    "def load_sae(sae_release, sae_id, device):\n",
    "    gc.collect()\n",
    "    torch.cuda.empty_cache()\n",
    "\n",
    "    sae, cfg_dict, sparsity = SAE.from_pretrained(\n",
    "        release=sae_release,\n",
    "        sae_id=sae_id,\n",
    "        device=device,\n",
    "    )\n",
    "    sae = sae.to(device=device)\n",
    "\n",
    "    if \"topk\" in sae_name and not isinstance(sae.activation_fn, TopK):\n",
    "        sae = formatting_utils.fix_topk_saes(sae, sae_release, sae_name, data_dir=\"../../\")\n",
    "        assert isinstance(sae.activation_fn, TopK)\n",
    "\n",
    "    return sae"
   ]
  },
  {
   "cell_type": "code",
   "execution_count": 43,
   "metadata": {},
   "outputs": [],
   "source": [
    "sae = load_sae(sae_release, sae_id, device)\n",
    "\n",
    "f1 = sae.encode(r1).nonzero().squeeze()\n",
    "f2 = sae.encode(r2).nonzero().squeeze()\n",
    "f12 = sae.encode(r1+r2).nonzero().squeeze()"
   ]
  },
  {
   "cell_type": "code",
   "execution_count": 44,
   "metadata": {},
   "outputs": [],
   "source": [
    "pre_enc_set = set(f1.tolist() + f2.tolist())\n",
    "post_enc_set = set(f12.tolist())\n",
    "\n",
    "intersection = pre_enc_set.intersection(post_enc_set)\n",
    "difference = pre_enc_set.symmetric_difference(post_enc_set)"
   ]
  },
  {
   "cell_type": "code",
   "execution_count": 45,
   "metadata": {},
   "outputs": [
    {
     "data": {
      "text/plain": [
       "(152, 80, 56, 120)"
      ]
     },
     "execution_count": 45,
     "metadata": {},
     "output_type": "execute_result"
    }
   ],
   "source": [
    "len(pre_enc_set), len(post_enc_set), len(intersection), len(difference)"
   ]
  },
  {
   "cell_type": "code",
   "execution_count": 46,
   "metadata": {},
   "outputs": [],
   "source": [
    "def covering_metric(f1, f2, f12):\n",
    "    pre_enc_set = set(f1.tolist() + f2.tolist())\n",
    "    post_enc_set = set(f12.tolist())\n",
    "    intersection = pre_enc_set.intersection(post_enc_set)\n",
    "    return len(intersection) / len(pre_enc_set)"
   ]
  },
  {
   "cell_type": "code",
   "execution_count": 49,
   "metadata": {},
   "outputs": [
    {
     "data": {
      "text/plain": [
       "0.3684210526315789"
      ]
     },
     "execution_count": 49,
     "metadata": {},
     "output_type": "execute_result"
    }
   ],
   "source": [
    "covering_metric(f1, f2, f12)"
   ]
  }
 ],
 "metadata": {
  "kernelspec": {
   "display_name": "sem-sim-env",
   "language": "python",
   "name": "python3"
  },
  "language_info": {
   "codemirror_mode": {
    "name": "ipython",
    "version": 3
   },
   "file_extension": ".py",
   "mimetype": "text/x-python",
   "name": "python",
   "nbconvert_exporter": "python",
   "pygments_lexer": "ipython3",
   "version": "3.11.9"
  }
 },
 "nbformat": 4,
 "nbformat_minor": 4
}
