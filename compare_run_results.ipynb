{
 "cells": [
  {
   "cell_type": "code",
   "execution_count": null,
   "metadata": {},
   "outputs": [],
   "source": [
    "import json\n",
    "import os\n",
    "\n",
    "eval_path = \"./evals/sparse_probing/results\"\n",
    "file1 = os.path.join(eval_path, \"example_pythia-70m-deduped_layer_4_eval_results.json\")\n",
    "file2 = os.path.join(eval_path, \"sae_bench_pythia70m_sweep_topk_ctx128_0730_eval_results_sklearn.json\")\n",
    "\n",
    "with open(file1, \"r\") as f:\n",
    "    data1 = json.load(f)\n",
    "\n",
    "with open(file2, \"r\") as f:\n",
    "    data2 = json.load(f)\n",
    "\n"
   ]
  },
  {
   "cell_type": "code",
   "execution_count": null,
   "metadata": {},
   "outputs": [],
   "source": [
    "def compare_dicts_within_tolerance(actual, expected, tolerance, path=\"\", all_diffs=None):\n",
    "    \"\"\"\n",
    "    Recursively compare two nested dictionaries and assert that all numeric values\n",
    "    are within the specified tolerance. Print global mean and max difference at root call.\n",
    "\n",
    "    :param actual: The actual dictionary of results\n",
    "    :param expected: The expected dictionary of results\n",
    "    :param tolerance: The allowed tolerance for floating point comparisons\n",
    "    :param path: The current path in the nested structure (used for error messages)\n",
    "    :param all_diffs: List to collect all differences (used internally for recursion)\n",
    "    \"\"\"\n",
    "    if all_diffs is None:\n",
    "        all_diffs = []\n",
    "\n",
    "    assert type(actual) == type(\n",
    "        expected\n",
    "    ), f\"Type mismatch at {path}: {type(actual)} != {type(expected)}\"\n",
    "\n",
    "    if isinstance(actual, dict):\n",
    "        assert set(actual.keys()) == set(\n",
    "            expected.keys()\n",
    "        ), f\"Key mismatch at {path}: {set(actual.keys())} != {set(expected.keys())}\"\n",
    "        for key in actual:\n",
    "            new_path = f\"{path}.{key}\" if path else str(key)\n",
    "\n",
    "            if key == \"random_seed\":\n",
    "                continue\n",
    "\n",
    "            compare_dicts_within_tolerance(\n",
    "                actual[key], expected[key], tolerance, new_path, all_diffs\n",
    "            )\n",
    "    elif isinstance(actual, (int, float)):\n",
    "        diff = abs(actual - expected)\n",
    "        all_diffs.append(diff)\n",
    "    else:\n",
    "        assert actual == expected, f\"Value mismatch at {path}: {actual} != {expected}\"\n",
    "\n",
    "    # Print global mean and max difference only at the root call\n",
    "    if path == \"\":\n",
    "        if all_diffs:\n",
    "            mean_diff = sum(all_diffs) / len(all_diffs)\n",
    "            max_diff = max(all_diffs)\n",
    "\n",
    "            print(f\"Global mean difference: {mean_diff}\")\n",
    "            print(f\"Global max difference: {max_diff}\")\n",
    "\n",
    "            assert (\n",
    "                max_diff <= tolerance\n",
    "            ), f\"Value mismatch at {path}: {actual} not within {tolerance} of {expected}\"\n",
    "\n",
    "        else:\n",
    "            print(\"No numeric differences found.\")\n",
    "\n",
    "compare_dicts_within_tolerance(data1, data2, 1e-5)"
   ]
  }
 ],
 "metadata": {
  "kernelspec": {
   "display_name": "base",
   "language": "python",
   "name": "python3"
  },
  "language_info": {
   "codemirror_mode": {
    "name": "ipython",
    "version": 3
   },
   "file_extension": ".py",
   "mimetype": "text/x-python",
   "name": "python",
   "nbconvert_exporter": "python",
   "pygments_lexer": "ipython3",
   "version": "3.11.9"
  }
 },
 "nbformat": 4,
 "nbformat_minor": 2
}
