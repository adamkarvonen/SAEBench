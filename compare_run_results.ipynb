{
 "cells": [
  {
   "cell_type": "code",
   "execution_count": null,
   "metadata": {},
   "outputs": [],
   "source": [
    "import json\n",
    "import os\n",
    "\n",
    "import sae_bench_utils.testing_utils as testing_utils\n",
    "\n",
    "eval_path = \"./evals/sparse_probing/results\"\n",
    "file1 = os.path.join(eval_path, \"example_pythia-70m-deduped_layer_4_eval_results.json\")\n",
    "file2 = os.path.join(eval_path, \"pythia-70m-deduped_layer_4_eval_results.json\")\n",
    "\n",
    "with open(file1, \"r\") as f:\n",
    "    data1 = json.load(f)\n",
    "\n",
    "with open(file2, \"r\") as f:\n",
    "    data2 = json.load(f)\n",
    "\n",
    "testing_utils.compare_dicts_within_tolerance(data1, data2, 0.04)"
   ]
  }
 ],
 "metadata": {
  "kernelspec": {
   "display_name": "base",
   "language": "python",
   "name": "python3"
  },
  "language_info": {
   "codemirror_mode": {
    "name": "ipython",
    "version": 3
   },
   "file_extension": ".py",
   "mimetype": "text/x-python",
   "name": "python",
   "nbconvert_exporter": "python",
   "pygments_lexer": "ipython3",
   "version": "3.11.8"
  }
 },
 "nbformat": 4,
 "nbformat_minor": 2
}
