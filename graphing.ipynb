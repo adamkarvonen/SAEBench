{
 "cells": [
  {
   "cell_type": "markdown",
   "metadata": {},
   "source": [
    "# Plotting Custom Metric Results\n"
   ]
  },
  {
   "cell_type": "code",
   "execution_count": null,
   "metadata": {},
   "outputs": [],
   "source": [
    "%load_ext autoreload\n",
    "%autoreload 2"
   ]
  },
  {
   "cell_type": "code",
   "execution_count": null,
   "metadata": {},
   "outputs": [],
   "source": [
    "import matplotlib.pyplot as plt\n",
    "import json\n",
    "import torch\n",
    "import pickle\n",
    "from typing import Optional\n",
    "from matplotlib.colors import Normalize\n",
    "import numpy as np\n",
    "import os\n",
    "\n",
    "from sae_bench_utils.graphing_utils import (\n",
    "    plot_2var_graph,\n",
    "    plot_3var_graph,\n",
    "    plot_interactive_3var_graph,\n",
    "    plot_training_steps,\n",
    "    plot_correlation_heatmap,\n",
    "    plot_correlation_scatter,\n",
    ")\n",
    "\n",
    "from sae_bench_utils.formatting_utils import (\n",
    "    get_sparsity_penalty,\n",
    "    extract_saes_unique_info,\n",
    "    ae_config_results,\n",
    "    add_custom_metric_results,\n",
    "    filter_by_l0_threshold,\n",
    ")"
   ]
  },
  {
   "cell_type": "markdown",
   "metadata": {},
   "source": [
    "## Load data\n"
   ]
  },
  {
   "cell_type": "code",
   "execution_count": null,
   "metadata": {},
   "outputs": [],
   "source": [
    "eval_path = \"./evals/sparse_probing\"\n",
    "image_path = os.path.join(eval_path, \"images\")\n",
    "results_path = os.path.join(eval_path, \"results\")\n",
    "\n",
    "if not os.path.exists(image_path):\n",
    "    os.makedirs(image_path)"
   ]
  },
  {
   "cell_type": "code",
   "execution_count": null,
   "metadata": {},
   "outputs": [],
   "source": [
    "## Example results for Pythia (does not contain training checkpoints)\n",
    "filename = \"example_pythia-70m-deduped_layer_4_eval_results.json\"\n",
    "\n",
    "## Example results for Gemma (does not contain training checkpoints)\n",
    "# filename = \"example_gemma-2-2b_layer_19_eval_results.json\"\n",
    "\n",
    "## Example results for Gemma (does contain training checkpoints)\n",
    "filename = \"example_gemma-2-2b_layer_19_with_checkpoints_eval_results.json\"\n",
    "\n",
    "\n",
    "filepath = os.path.join(results_path, filename)\n",
    "\n",
    "with open(filepath, \"r\") as f:\n",
    "    eval_results = json.load(f)"
   ]
  },
  {
   "cell_type": "code",
   "execution_count": null,
   "metadata": {},
   "outputs": [],
   "source": [
    "sae_names = list(eval_results[\"custom_eval_results\"].keys())\n",
    "\n",
    "print(eval_results.keys())\n",
    "print(\"\\nAvailable SAEs:\\n\", eval_results[\"custom_eval_results\"].keys())\n",
    "print(\n",
    "    \"\\nAvailable custom metrics:\\n\", eval_results[\"custom_eval_results\"][sae_names[0]].keys()\n",
    ")"
   ]
  },
  {
   "cell_type": "markdown",
   "metadata": {},
   "source": [
    "In this cell, we find all of the sae_releases for the data file, and aggregate\n",
    "all of the data into `sae_data`. `sae_data` contains basic metrics like L0 and\n",
    "Loss Recovered, in addition to trainer parameters like dict size, sparsity\n",
    "penalty, SAE type, etc.\n"
   ]
  },
  {
   "cell_type": "code",
   "execution_count": null,
   "metadata": {},
   "outputs": [],
   "source": [
    "sae_releases = eval_results[\"custom_eval_config\"][\"sae_releases\"]\n",
    "\n",
    "sae_data = {\"basic_eval_results\": {}, \"sae_config_dictionary_learning\": {}}\n",
    "\n",
    "for release_name in sae_releases:\n",
    "    sae_data_filename = f\"sae_bench_data/{release_name}_data.json\"\n",
    "\n",
    "    with open(sae_data_filename, \"r\") as f:\n",
    "        sae_release_data = json.load(f)\n",
    "\n",
    "    sae_data[\"basic_eval_results\"].update(sae_release_data[\"basic_eval_results\"])\n",
    "    sae_data[\"sae_config_dictionary_learning\"].update(\n",
    "        sae_release_data[\"sae_config_dictionary_learning\"]\n",
    "    )"
   ]
  },
  {
   "cell_type": "code",
   "execution_count": null,
   "metadata": {},
   "outputs": [],
   "source": [
    "print(sae_data.keys())\n",
    "# print('\\nAvailable SAEs:\\n', sae_data[\"basic_eval_results\"].keys())\n",
    "\n",
    "first_sae_name = next(iter(sae_data[\"basic_eval_results\"]))\n",
    "print(\"\\nAvailable basic metrics:\\n\", sae_data[\"basic_eval_results\"][first_sae_name].keys())"
   ]
  },
  {
   "cell_type": "code",
   "execution_count": null,
   "metadata": {},
   "outputs": [],
   "source": [
    "first_sae_name = next(iter(sae_data[\"sae_config_dictionary_learning\"]))\n",
    "print(\n",
    "    \"\\nAvailable config info:\\n\",\n",
    "    sae_data[\"sae_config_dictionary_learning\"][first_sae_name][\"trainer\"].keys(),\n",
    ")"
   ]
  },
  {
   "cell_type": "code",
   "execution_count": null,
   "metadata": {},
   "outputs": [],
   "source": [
    "# Gather all values in one dict for plotting\n",
    "plotting_results = eval_results[\"custom_eval_results\"]\n",
    "\n",
    "for sae_name in eval_results[\"custom_eval_results\"]:\n",
    "    plotting_results[sae_name][\"l0\"] = sae_data[\"basic_eval_results\"][sae_name][\"l0\"]\n",
    "    plotting_results[sae_name][\"sparsity_penalty\"] = get_sparsity_penalty(\n",
    "        sae_data[\"sae_config_dictionary_learning\"][sae_name]\n",
    "    )\n",
    "    plotting_results[sae_name][\"frac_recovered\"] = sae_data[\"basic_eval_results\"][sae_name][\n",
    "        \"frac_recovered\"\n",
    "    ]\n",
    "\n",
    "    # Add all trainer info\n",
    "    plotting_results[sae_name] = (\n",
    "        plotting_results[sae_name]\n",
    "        | sae_data[\"sae_config_dictionary_learning\"][sae_name][\"trainer\"]\n",
    "    )\n",
    "    plotting_results[sae_name][\"buffer\"] = sae_data[\"sae_config_dictionary_learning\"][\n",
    "        sae_name\n",
    "    ][\"buffer\"]"
   ]
  },
  {
   "cell_type": "markdown",
   "metadata": {},
   "source": [
    "## Plot custom metric above unsupervised metrics\n"
   ]
  },
  {
   "cell_type": "code",
   "execution_count": null,
   "metadata": {},
   "outputs": [],
   "source": [
    "k = 2\n",
    "custom_metric = f\"sae_top_{k}_test_accuracy\"\n",
    "\n",
    "custom_metric_name = f\"k={k}-Sparse Probe Accuracy\"\n",
    "title_3var = f\"L0 vs Loss Recovered vs {custom_metric_name}\"\n",
    "title_2var = f\"L0 vs {custom_metric_name}\"\n",
    "image_base_name = os.path.join(image_path, custom_metric)\n",
    "\n",
    "plot_3var_graph(\n",
    "    plotting_results,\n",
    "    title_3var,\n",
    "    custom_metric,\n",
    "    colorbar_label=\"Custom Metric\",\n",
    "    output_filename=f\"{image_base_name}_3var.png\",\n",
    ")\n",
    "plot_2var_graph(\n",
    "    plotting_results,\n",
    "    custom_metric,\n",
    "    title=title_2var,\n",
    "    output_filename=f\"{image_base_name}_2var.png\",\n",
    ")\n",
    "# plot_interactive_3var_graph(plotting_results, custom_metric)\n",
    "\n",
    "# At this point, if there's any additional .json files located alongside the ae.pt and eval_results.json\n",
    "# You can easily adapt them to be included in the plotting_results dictionary by using something similar to add_ae_config_results()"
   ]
  },
  {
   "cell_type": "markdown",
   "metadata": {},
   "source": [
    "### ...with interactive hovering\n"
   ]
  },
  {
   "cell_type": "code",
   "execution_count": null,
   "metadata": {},
   "outputs": [],
   "source": [
    "plot_interactive_3var_graph(\n",
    "    plotting_results,\n",
    "    custom_metric,\n",
    "    title=title_3var,\n",
    "    output_filename=f\"{image_base_name}_3var_interactive.html\",\n",
    ")"
   ]
  },
  {
   "cell_type": "markdown",
   "metadata": {},
   "source": [
    "## Plot metric over training checkpoints\n"
   ]
  },
  {
   "cell_type": "code",
   "execution_count": null,
   "metadata": {},
   "outputs": [],
   "source": [
    "# Check which SAEs with checkpoints are actually available\n",
    "extract_saes_unique_info(sae_names, checkpoint_only=True)"
   ]
  },
  {
   "cell_type": "markdown",
   "metadata": {},
   "source": [
    "Note: We have SAE checkpoints at initialization (step 0), which does not fit on\n",
    "a log scale (log(0) = -inf). We visualize this with a cut in the graph.\n",
    "\n",
    "Note: If the list above is empty, there are no checkpoints available. The plot\n",
    "below will only show values for the final training step.\n"
   ]
  },
  {
   "cell_type": "code",
   "execution_count": null,
   "metadata": {},
   "outputs": [],
   "source": [
    "plot_training_steps(\n",
    "    plotting_results,\n",
    "    custom_metric,\n",
    "    title=f\"Steps vs {custom_metric_name}\",\n",
    "    output_filename=f\"{image_base_name}_steps_vs_diff.png\",\n",
    ")"
   ]
  },
  {
   "cell_type": "markdown",
   "metadata": {},
   "source": [
    "## Plot metric correlations\n"
   ]
  },
  {
   "cell_type": "code",
   "execution_count": null,
   "metadata": {},
   "outputs": [],
   "source": [
    "# k=100\n",
    "# custom_metric = f'sae_top_{k}_test_accuracy'\n",
    "\n",
    "metric_keys = [\n",
    "    \"l0\",\n",
    "    \"frac_recovered\",\n",
    "    custom_metric,\n",
    "]\n",
    "\n",
    "plot_correlation_heatmap(plotting_results, metric_names=metric_keys, ae_names=None)"
   ]
  },
  {
   "cell_type": "code",
   "execution_count": null,
   "metadata": {},
   "outputs": [],
   "source": [
    "# Simple example usage:\n",
    "# plot_metric_scatter(plotting_results, metric_x=\"l0\", metric_y=\"frac_recovered\", title=\"L0 vs Fraction Recovered\")\n",
    "\n",
    "threshold_x = 50\n",
    "threshold_y = 100\n",
    "\n",
    "metric_x = f\"sae_top_{threshold_x}_test_accuracy\"\n",
    "metric_y = f\"sae_top_{threshold_y}_test_accuracy\"\n",
    "\n",
    "title = f\"\"\n",
    "x_label = \"k=1 Sparse Probe Accuracy\"\n",
    "y_label = \"k=100 Sparse Probe Accuracy\"\n",
    "output_filename = os.path.join(\n",
    "    image_path,\n",
    "    f\"sparse_probing_result_correlation_for_thresholds_{threshold_y}_{threshold_y}.png\",\n",
    ")\n",
    "\n",
    "plot_correlation_scatter(\n",
    "    plotting_results,\n",
    "    metric_x=metric_x,\n",
    "    metric_y=metric_y,\n",
    "    title=title,\n",
    "    x_label=x_label,\n",
    "    y_label=y_label,\n",
    "    output_filename=output_filename,\n",
    ")"
   ]
  }
 ],
 "metadata": {
  "kernelspec": {
   "display_name": "base",
   "language": "python",
   "name": "python3"
  },
  "language_info": {
   "codemirror_mode": {
    "name": "ipython",
    "version": 3
   },
   "file_extension": ".py",
   "mimetype": "text/x-python",
   "name": "python",
   "nbconvert_exporter": "python",
   "pygments_lexer": "ipython3",
   "version": "3.11.9"
  }
 },
 "nbformat": 4,
 "nbformat_minor": 2
}
