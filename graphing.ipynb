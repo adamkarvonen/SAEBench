{
 "cells": [
  {
   "cell_type": "markdown",
   "metadata": {},
   "source": [
    "# Plotting Custom Metric Results\n"
   ]
  },
  {
   "cell_type": "code",
   "execution_count": 1,
   "metadata": {},
   "outputs": [],
   "source": [
    "%load_ext autoreload\n",
    "%autoreload 2"
   ]
  },
  {
   "cell_type": "code",
   "execution_count": 2,
   "metadata": {},
   "outputs": [
    {
     "name": "stderr",
     "output_type": "stream",
     "text": [
      "/share/u/can/miniconda3/envs/ravel_saebench_env/lib/python3.11/site-packages/tqdm/auto.py:21: TqdmWarning: IProgress not found. Please update jupyter and ipywidgets. See https://ipywidgets.readthedocs.io/en/stable/user_install.html\n",
      "  from .autonotebook import tqdm as notebook_tqdm\n"
     ]
    }
   ],
   "source": [
    "import matplotlib.pyplot as plt\n",
    "import json\n",
    "import torch\n",
    "import pickle\n",
    "from typing import Optional\n",
    "from matplotlib.colors import Normalize\n",
    "import numpy as np\n",
    "import os\n",
    "\n",
    "import sae_bench_utils.graphing_utils as graphing_utils\n",
    "\n",
    "from sae_bench_utils.sae_selection_utils import select_saes_multiple_patterns"
   ]
  },
  {
   "cell_type": "markdown",
   "metadata": {},
   "source": [
    "This cell is for the following purpose:\n",
    "\n",
    "Currently, we have a handle of folders, like `absorption` or `core`. In each folder, we have a bunch of tar.gz files. We want a single e.g. `absorption` folder which has a single level and contains all .json results for all SAEs.\n",
    "\n",
    "To run this, create a folder called `eval_results/` and move `absorption/`, `core/`, etc in to this folder."
   ]
  },
  {
   "cell_type": "code",
   "execution_count": 3,
   "metadata": {},
   "outputs": [
    {
     "ename": "FileNotFoundError",
     "evalue": "[Errno 2] No such file or directory: 'eval_results/core'",
     "output_type": "error",
     "traceback": [
      "\u001b[0;31m---------------------------------------------------------------------------\u001b[0m",
      "\u001b[0;31mFileNotFoundError\u001b[0m                         Traceback (most recent call last)",
      "Cell \u001b[0;32mIn[3], line 50\u001b[0m\n\u001b[1;32m     48\u001b[0m \u001b[38;5;28;01mfor\u001b[39;00m folder \u001b[38;5;129;01min\u001b[39;00m folders:\n\u001b[1;32m     49\u001b[0m     folder_path \u001b[38;5;241m=\u001b[39m os\u001b[38;5;241m.\u001b[39mpath\u001b[38;5;241m.\u001b[39mjoin(\u001b[38;5;124m\"\u001b[39m\u001b[38;5;124meval_results\u001b[39m\u001b[38;5;124m\"\u001b[39m, folder)\n\u001b[0;32m---> 50\u001b[0m     \u001b[43mextract_and_move_json_files\u001b[49m\u001b[43m(\u001b[49m\u001b[43mfolder_path\u001b[49m\u001b[43m)\u001b[49m\n\u001b[1;32m     52\u001b[0m \u001b[38;5;28mprint\u001b[39m(\u001b[38;5;124m\"\u001b[39m\u001b[38;5;124mExtraction and file moving completed.\u001b[39m\u001b[38;5;124m\"\u001b[39m)\n",
      "Cell \u001b[0;32mIn[3], line 13\u001b[0m, in \u001b[0;36mextract_and_move_json_files\u001b[0;34m(base_folder)\u001b[0m\n\u001b[1;32m     11\u001b[0m \u001b[38;5;28;01mdef\u001b[39;00m \u001b[38;5;21mextract_and_move_json_files\u001b[39m(base_folder):\n\u001b[1;32m     12\u001b[0m     \u001b[38;5;66;03m# Get all files in the folder\u001b[39;00m\n\u001b[0;32m---> 13\u001b[0m     \u001b[38;5;28;01mfor\u001b[39;00m filename \u001b[38;5;129;01min\u001b[39;00m \u001b[43mos\u001b[49m\u001b[38;5;241;43m.\u001b[39;49m\u001b[43mlistdir\u001b[49m\u001b[43m(\u001b[49m\u001b[43mbase_folder\u001b[49m\u001b[43m)\u001b[49m:\n\u001b[1;32m     14\u001b[0m         file_path \u001b[38;5;241m=\u001b[39m os\u001b[38;5;241m.\u001b[39mpath\u001b[38;5;241m.\u001b[39mjoin(base_folder, filename)\n\u001b[1;32m     16\u001b[0m         \u001b[38;5;66;03m# Process only .tar.gz files\u001b[39;00m\n",
      "\u001b[0;31mFileNotFoundError\u001b[0m: [Errno 2] No such file or directory: 'eval_results/core'"
     ]
    }
   ],
   "source": [
    "# # SAE Bench INTERNAL USE ONLY\n",
    "\n",
    "# from huggingface_hub import snapshot_download\n",
    "\n",
    "# hf_repo_id = \"adamkarvonen/sae_bench_results\"\n",
    "# local_dir = \"./eval_results\"\n",
    "# os.makedirs(local_dir, exist_ok=True)\n",
    "\n",
    "# snapshot_download(\n",
    "#     repo_id=hf_repo_id,\n",
    "#     local_dir=local_dir,\n",
    "#     repo_type=\"dataset\",\n",
    "# )"
   ]
  },
  {
   "cell_type": "code",
   "execution_count": null,
   "metadata": {},
   "outputs": [],
   "source": [
    "# # SAE Bench INTERNAL USE ONLY\n",
    "\n",
    "# from huggingface_hub import snapshot_download\n",
    "\n",
    "# hf_repo_id = \"adamkarvonen/sae_bench_results\"\n",
    "# local_dir = \"./eval_results\"\n",
    "# os.makedirs(local_dir, exist_ok=True)\n",
    "\n",
    "# snapshot_download(\n",
    "#     repo_id=hf_repo_id,\n",
    "#     local_dir=local_dir,\n",
    "#     repo_type=\"dataset\",\n",
    "# )"
   ]
  },
  {
   "cell_type": "code",
   "execution_count": null,
   "metadata": {},
   "outputs": [],
   "source": [
    "# The purpose of this is that we currently organize results like this:\n",
    "\n",
    "# {eval_type}/{sae_release}/{sae_release}_{sae_id}_eval_results.json\n",
    "# because we have results for over 600 SAEs\n",
    "\n",
    "# However, the current scripts output results like this:\n",
    "# {eval_type}/{sae_release}_{sae_id}_eval_results.json\n",
    "\n",
    "# So, we just flatten the sae bench results to match the expected format\n",
    "\n",
    "# import os\n",
    "# import shutil\n",
    "# import glob\n",
    "# from pathlib import Path\n",
    "\n",
    "# base_dir = \"eval_results\"\n",
    "# # Get all immediate subdirectories in eval_results\n",
    "# main_dirs = [d for d in os.listdir(base_dir) if os.path.isdir(os.path.join(base_dir, d))]\n",
    "\n",
    "# for main_dir in main_dirs:\n",
    "#     main_dir_path = os.path.join(base_dir, main_dir)\n",
    "#     print(f\"\\nProcessing {main_dir}...\")\n",
    "    \n",
    "#     # Get all subdirectories in the current directory\n",
    "#     subdirs = [d for d in os.listdir(main_dir_path) if os.path.isdir(os.path.join(main_dir_path, d))]\n",
    "    \n",
    "#     for subdir in subdirs:\n",
    "#         if not subdir.startswith('.'): # Skip hidden directories\n",
    "#             subdir_path = os.path.join(main_dir_path, subdir)\n",
    "#             print(f\"Moving files from {subdir}\")\n",
    "            \n",
    "#             # Get all files in the subdirectory\n",
    "#             files = glob.glob(os.path.join(subdir_path, '*'))\n",
    "            \n",
    "#             for file_path in files:\n",
    "#                 if os.path.isfile(file_path):  # Make sure it's a file, not a directory\n",
    "#                     file_name = os.path.basename(file_path)\n",
    "#                     destination = os.path.join(main_dir_path, file_name)\n",
    "                    \n",
    "#                     # Handle file name conflicts\n",
    "#                     if os.path.exists(destination):\n",
    "#                         base, extension = os.path.splitext(file_name)\n",
    "#                         counter = 1\n",
    "#                         while os.path.exists(destination):\n",
    "#                             new_name = f\"{base}_{counter}{extension}\"\n",
    "#                             destination = os.path.join(main_dir_path, new_name)\n",
    "#                             counter += 1\n",
    "                    \n",
    "#                     # Move the file\n",
    "#                     try:\n",
    "#                         shutil.move(file_path, destination)\n",
    "#                         print(f\"  Moved: {file_name} -> {os.path.basename(os.path.dirname(destination))}/\")\n",
    "#                     except Exception as e:\n",
    "#                         print(f\"  Error moving {file_name}: {str(e)}\")\n",
    "\n",
    "# print(\"\\nFile moving complete!\")"
   ]
  },
  {
   "cell_type": "markdown",
   "metadata": {},
   "source": [
    "## Load data\n",
    "\n",
    "Select one of the following `eval_path`, or add your own.\n",
    "\n",
    "We need a custom eval (SCR, Sparse Probing, etc.) and the core eval results, as we plot the SAEs by L0 / Loss Recovered in most plots."
   ]
  },
  {
   "cell_type": "code",
   "execution_count": null,
   "metadata": {},
   "outputs": [],
   "source": [
    "eval_path = \"./eval_results/sparse_probing\"\n",
    "\n",
    "core_results_path = \"./eval_results/core\"\n",
    "image_path = \"./images\"\n",
    "\n",
    "if not os.path.exists(image_path):\n",
    "    os.makedirs(image_path)"
   ]
  },
  {
   "cell_type": "markdown",
   "metadata": {},
   "source": [
    "Now select SAEs using the regex patterns. Using a list of sae regex patterns allows selecting SAEs using multiple patterns.\n",
    "\n",
    "This cell stores both the custom eval (e.g. SCR or sparse probing) and the core evals (L0 / Loss Recovered) for every SAE identified by the regex pattern"
   ]
  },
  {
   "cell_type": "code",
   "execution_count": null,
   "metadata": {},
   "outputs": [],
   "source": [
    "sae_regex_patterns = [\n",
    "    r\"sae_bench_gemma-2-2b_topk_width-2pow14_date-1109\",\n",
    "    # r\"sae_bench_gemma-2-2b_topk_width-2pow12_date-1109\",\n",
    "    r\"sae_bench_gemma-2-2b_vanilla_width-2pow14_date-1109\",\n",
    "    # r\"sae_bench_gemma-2-2b_vanilla_width-2pow12_date-1109\",\n",
    "    # r\"(gemma-scope-2b-pt-res)\",\n",
    "]\n",
    "\n",
    "layer = 19\n",
    "\n",
    "# Include checkpoints (not relevant to Gemma-Scope)\n",
    "# sae_block_pattern = [\n",
    "#     # rf\".*blocks\\.{layer}.*\",\n",
    "#     rf\".*blocks\\.{layer}.*\",\n",
    "#     rf\".*blocks\\.{layer}.*\",\n",
    "# ]\n",
    "\n",
    "# Exclude checkpoints\n",
    "sae_block_pattern = [\n",
    "    # rf\".*blocks\\.{layer}(?!.*step).*\",\n",
    "    # rf\".*blocks\\.{layer}(?!.*step).*\",\n",
    "    rf\".*blocks\\.{layer}(?!.*step).*\",\n",
    "    rf\".*blocks\\.{layer}(?!.*step).*\",\n",
    "    # rf\".*layer_({layer}).*(16k).*\", # For Gemma-Scope\n",
    "]\n",
    "\n",
    "\n",
    "assert len(sae_regex_patterns) == len(sae_block_pattern)\n",
    "\n",
    "selected_saes = select_saes_multiple_patterns(sae_regex_patterns, sae_block_pattern)\n",
    "\n",
    "\n",
    "eval_results = graphing_utils.get_eval_results(selected_saes, eval_path)\n",
    "core_results = graphing_utils.get_core_results(selected_saes, core_results_path)\n",
    "\n",
    "for sae in eval_results:\n",
    "    eval_results[sae].update(core_results[sae])"
   ]
  },
  {
   "cell_type": "code",
   "execution_count": null,
   "metadata": {},
   "outputs": [],
   "source": [
    "sae_names = list(eval_results.keys())\n",
    "\n",
    "print(eval_results.keys())\n",
    "print(\"\\nAvailable SAEs:\\n\", eval_results.keys())"
   ]
  },
  {
   "cell_type": "markdown",
   "metadata": {},
   "source": [
    "For plotting purposes we also want dictionary size, sae type, and number of training steps. The following cell populates this information."
   ]
  },
  {
   "cell_type": "markdown",
   "metadata": {},
   "source": [
    "## Plot custom metric above unsupervised metrics\n"
   ]
  },
  {
   "cell_type": "code",
   "execution_count": null,
   "metadata": {},
   "outputs": [],
   "source": [
    "print(\"\\nAvailable custom metrics:\\n\", eval_results[sae_names[0]].keys())"
   ]
  },
  {
   "cell_type": "code",
   "execution_count": null,
   "metadata": {},
   "outputs": [],
   "source": [
    "k = None\n",
    "k = 2\n",
    "\n",
    "custom_metric, custom_metric_name = graphing_utils.get_custom_metric_key_and_name(eval_path, k)\n",
    "\n",
    "if \"tpp\" in eval_path:\n",
    "    custom_metric = f\"tpp_threshold_{k}_total_metric\"\n",
    "    custom_metric_name = f\"TPP Top {k} Metric\"\n",
    "elif \"scr\" in eval_path:\n",
    "    custom_metric = f\"scr_metric_threshold_{k}\"\n",
    "    custom_metric_name = f\"SCR Top {k} Metric\"\n",
    "elif \"sparse_probing\" in eval_path:\n",
    "    custom_metric = f\"sae_top_{k}_test_accuracy\"\n",
    "    custom_metric_name = f\"Sparse Probing Top {k} Test Accuracy\"\n",
    "elif \"absorption\" in eval_path:\n",
    "    custom_metric = \"mean_absorption_score\"\n",
    "    custom_metric_name = \"Mean Absorption Score\"\n",
    "elif \"autointerp\" in eval_path:\n",
    "    custom_metric = \"autointerp_score\"\n",
    "    custom_metric_name = \"Autointerp Score\"\n",
    "else:\n",
    "    raise ValueError(\"Please add the correct key for the custom metric\")\n",
    "\n",
    "image_base_name = os.path.join(image_path, custom_metric)\n",
    "print(custom_metric, custom_metric_name)"
   ]
  },
  {
   "cell_type": "code",
   "execution_count": null,
   "metadata": {},
   "outputs": [],
   "source": [
    "title_3var = f\"L0 vs Loss Recovered vs {custom_metric_name}\"\n",
    "title_2var = f\"L0 vs {custom_metric_name}\"\n",
    "\n",
    "graphing_utils.plot_3var_graph(\n",
    "    eval_results,\n",
    "    title_3var,\n",
    "    custom_metric,\n",
    "    colorbar_label=\"Custom Metric\",\n",
    "    output_filename=f\"{image_base_name}_3var.png\",\n",
    ")\n",
    "graphing_utils.plot_2var_graph(\n",
    "    eval_results,\n",
    "    custom_metric,\n",
    "    y_label=custom_metric_name,\n",
    "    title=title_2var,\n",
    "    output_filename=f\"{image_base_name}_2var.png\",\n",
    ")\n",
    "# plot_interactive_3var_graph(plotting_results, custom_metric)\n",
    "\n",
    "# At this point, if there's any additional .json files located alongside the ae.pt and eval_results.json\n",
    "# You can easily adapt them to be included in the plotting_results dictionary by using something similar to add_ae_config_results()"
   ]
  },
  {
   "cell_type": "markdown",
   "metadata": {},
   "source": [
    "### ...with interactive hovering\n"
   ]
  },
  {
   "cell_type": "code",
   "execution_count": null,
   "metadata": {},
   "outputs": [],
   "source": [
    "graphing_utils.plot_interactive_3var_graph(\n",
    "    eval_results,\n",
    "    custom_metric,\n",
    "    title=title_3var,\n",
    "    output_filename=f\"{image_base_name}_3var_interactive.html\",\n",
    ")"
   ]
  },
  {
   "cell_type": "code",
   "execution_count": null,
   "metadata": {},
   "outputs": [],
   "source": [
    "graphing_utils.plot_2var_graph_dict_size(\n",
    "    eval_results,\n",
    "    custom_metric,\n",
    "    y_label=custom_metric_name,\n",
    "    title=title_2var,\n",
    "    output_filename=f\"{image_base_name}_2var.png\",\n",
    ")"
   ]
  },
  {
   "cell_type": "markdown",
   "metadata": {},
   "source": [
    "## Plot metric over training checkpoints\n"
   ]
  },
  {
   "cell_type": "markdown",
   "metadata": {},
   "source": [
    "Note: We have SAE checkpoints at initialization (step 0), which does not fit on\n",
    "a log scale (log(0) = -inf). We visualize this with a cut in the graph."
   ]
  },
  {
   "cell_type": "code",
   "execution_count": null,
   "metadata": {},
   "outputs": [],
   "source": [
    "graphing_utils.plot_training_steps(\n",
    "    eval_results,\n",
    "    custom_metric,\n",
    "    title=f\"Tokens vs {custom_metric_name} Gemma Layer {layer}\",\n",
    "    output_filename=f\"{image_base_name}_tokens_vs_diff.png\",\n",
    ")"
   ]
  },
  {
   "cell_type": "markdown",
   "metadata": {},
   "source": [
    "This cell combines all of the above steps into a single function so we can plot results from multiple runs."
   ]
  },
  {
   "cell_type": "code",
   "execution_count": null,
   "metadata": {},
   "outputs": [],
   "source": [
    "\n",
    "\n",
    "eval_path = \"./eval_results/unlearning\"\n",
    "# eval_path = \"./eval_results/scr\"\n",
    "# eval_path = \"./eval_results/tpp\"\n",
    "# eval_path = \"./eval_results/absorption\"\n",
    "\n",
    "core_results_path = \"./eval_results/core\"\n",
    "for layer in [5, 12, 19]:\n",
    "    sae_regex_patterns = [\n",
    "        r\"sae_bench_gemma-2-2b_topk_width-2pow14_date-1109\",\n",
    "        r\"sae_bench_gemma-2-2b_topk_width-2pow16_date-1109\",\n",
    "        r\"sae_bench_gemma-2-2b_vanilla_width-2pow16_date-1109\",\n",
    "        # r\"sae_bench_gemma-2-2b_topk_width-2pow12_date-1109\",\n",
    "        r\"sae_bench_gemma-2-2b_vanilla_width-2pow14_date-1109\",\n",
    "        # r\"sae_bench_gemma-2-2b_vanilla_width-2pow12_date-1109\",\n",
    "        r\"(gemma-scope-2b-pt-res)\",\n",
    "    ]\n",
    "\n",
    "    sae_block_pattern = [\n",
    "        # rf\".*blocks\\.{layer}(?!.*step).*\",\n",
    "        # rf\".*blocks\\.{layer}(?!.*step).*\",\n",
    "        rf\".*blocks\\.{layer}(?!.*step).*\",\n",
    "        rf\".*blocks\\.{layer}(?!.*step).*\",\n",
    "        rf\".*blocks\\.{layer}(?!.*step).*\",\n",
    "        rf\".*blocks\\.{layer}(?!.*step).*\",\n",
    "        rf\".*layer_({layer}).*(16k).*\", # For Gemma-Scope\n",
    "    ]\n",
    "\n",
    "    # Include checkpoints\n",
    "    # sae_block_pattern = [\n",
    "    # rf\".*blocks\\.{layer}.*\",\n",
    "    # rf\".*blocks\\.{layer}.*\",\n",
    "    # ]\n",
    "\n",
    "    selected_saes = select_saes_multiple_patterns(sae_regex_patterns, sae_block_pattern)\n",
    "\n",
    "    graphing_utils.plot_results(selected_saes, eval_path, core_results_path, image_base_name, k=20)"
   ]
  },
  {
   "cell_type": "markdown",
   "metadata": {},
   "source": [
    "## Plot metric correlations\n"
   ]
  },
  {
   "cell_type": "code",
   "execution_count": null,
   "metadata": {},
   "outputs": [],
   "source": [
    "# k=100\n",
    "# custom_metric = f'sae_top_{k}_test_accuracy'\n",
    "\n",
    "metric_keys = [\n",
    "    \"l0\",\n",
    "    \"frac_recovered\",\n",
    "    custom_metric,\n",
    "]\n",
    "\n",
    "graphing_utils.plot_correlation_heatmap(eval_results, metric_names=metric_keys, ae_names=None)"
   ]
  },
  {
   "cell_type": "code",
   "execution_count": null,
   "metadata": {},
   "outputs": [],
   "source": [
    "# Simple example usage:\n",
    "# plot_metric_scatter(plotting_results, metric_x=\"l0\", metric_y=\"frac_recovered\", title=\"L0 vs Fraction Recovered\")\n",
    "\n",
    "threshold_x = 50\n",
    "threshold_y = 100\n",
    "\n",
    "metric_x = f\"sae_top_{threshold_x}_test_accuracy\"\n",
    "metric_y = f\"sae_top_{threshold_y}_test_accuracy\"\n",
    "\n",
    "title = f\"\"\n",
    "x_label = \"k=1 Sparse Probe Accuracy\"\n",
    "y_label = \"k=100 Sparse Probe Accuracy\"\n",
    "output_filename = os.path.join(\n",
    "    image_path,\n",
    "    f\"sparse_probing_result_correlation_for_thresholds_{threshold_y}_{threshold_y}.png\",\n",
    ")\n",
    "\n",
    "graphing_utils.plot_correlation_scatter(\n",
    "    eval_results,\n",
    "    metric_x=metric_x,\n",
    "    metric_y=metric_y,\n",
    "    title=title,\n",
    "    x_label=x_label,\n",
    "    y_label=y_label,\n",
    "    output_filename=output_filename,\n",
    ")"
   ]
  }
 ],
 "metadata": {
  "kernelspec": {
   "display_name": "ravel_saebench_env",
   "language": "python",
   "name": "python3"
  },
  "language_info": {
   "codemirror_mode": {
    "name": "ipython",
    "version": 3
   },
   "file_extension": ".py",
   "mimetype": "text/x-python",
   "name": "python",
   "nbconvert_exporter": "python",
   "pygments_lexer": "ipython3",
   "version": "3.11.8"
  }
 },
 "nbformat": 4,
 "nbformat_minor": 2
}
